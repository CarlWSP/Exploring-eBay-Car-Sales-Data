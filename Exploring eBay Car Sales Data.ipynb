{
 "cells": [
  {
   "cell_type": "markdown",
   "id": "f5cbdf93",
   "metadata": {},
   "source": [
    "# __Exploring eBay Car Sales Data__"
   ]
  },
  {
   "cell_type": "markdown",
   "id": "8942a1a2",
   "metadata": {},
   "source": [
    "In this project, we will work with a dataset of used cars from eBay Kleinanzeigen wich is a section of the German eBay website. The data was originally scraped and uploaded to Kaggle by the user [orgesleka](‘https://www.kaggle.com/orgesleka’). Orgesleka has deleted their Kaggle account but the data is still available from the website [data.world]('https://data.world/data-society/used-cars-data’). "
   ]
  },
  {
   "attachments": {
    "1613550353982.jpg": {
     "image/jpeg": "[encoded data removed]"
    }
   },
   "cell_type": "markdown",
   "id": "1f165384",
   "metadata": {},
   "source": [
    "![1613550353982.jpg](attachment:1613550353982.jpg)"
   ]
  },
  {
   "cell_type": "markdown",
   "id": "d85ac512",
   "metadata": {},
   "source": [
    "However the people at [data.world](https://data.world/data-society) have made some modifications to the original dataset created by [orgesleka](‘https://www.kaggle.com/orgesleka’).\n",
    "- The new dataset has sampled 50,000 data points from the full 370,000 to ensure that the code runs quickly in hosted environments. \n",
    "- They have also dirtied the dataset making it more inline with what you would expect from scraped data as [orgesleka](‘https://www.kaggle.com/orgesleka’) upladed a cleaned version to Kaggle.\n"
   ]
  },
  {
   "cell_type": "markdown",
   "id": "42132d91",
   "metadata": {},
   "source": [
    "Below we can see the columns for the data frame:"
   ]
  },
  {
   "cell_type": "markdown",
   "id": "ee8c5893",
   "metadata": {},
   "source": [
    "- `dateCrawled` - When this ad was first crawled. All field-values are taken from this date.\n",
    "- `name` - Name of the car.\n",
    "- `seller` - Whether the seller is private or a dealer.\n",
    "- `offerType` - The type of listing\n",
    "- `price` - The price on the ad to sell the car.\n",
    "- `abtest` - Whether the listing is included in an A/B test.\n",
    "- `vehicleType` - The vehicle Type.\n",
    "- `yearOfRegistration` - The year in which the car was first registered.\n",
    "- `gearbox` - The transmission type.\n",
    "- `powerPS` - The power of the car in PS.\n",
    "- `model` - The car model name.\n",
    "- `kilometer` - How many kilometers the car has driven.\n",
    "- `monthOfRegistration` - The month in which the car was first registered.\n",
    "- `fuelType` - What type of fuel the car uses.\n",
    "- `brand` - The brand of the car.\n",
    "- `notRepairedDamage` - If the car has a damage which is not yet repaired.\n",
    "- `dateCreated` - The date on which the eBay listing was created.\n",
    "- `nrOfPictures` - The number of pictures in the ad.\n",
    "- `postalCode` - The postal code for the location of the vehicle.\n",
    "- `lastSeenOnline` - When the crawler saw this ad last online."
   ]
  },
  {
   "cell_type": "markdown",
   "id": "2e1f3e92",
   "metadata": {},
   "source": [
    "# __Importing Data__"
   ]
  },
  {
   "cell_type": "markdown",
   "id": "a101e30d",
   "metadata": {},
   "source": [
    "Now that we are familiar with the structure of the data, we can now import the data and begin our analysis. We will also increase the max rows option to allow us to look at any number of rows. "
   ]
  },
  {
   "cell_type": "code",
   "execution_count": 1,
   "id": "b0f30661",
   "metadata": {},
   "outputs": [],
   "source": [
    "import pandas as pd \n",
    "import numpy as np\n",
    "pd.set_option(\"display.max_rows\", None)"
   ]
  },
  {
   "cell_type": "code",
   "execution_count": 2,
   "id": "7c25f4da",
   "metadata": {},
   "outputs": [],
   "source": [
    "open_file = open(r'C:\\Users\\user\\Desktop\\python\\my_datasets\\autos.csv')\n",
    "read_file = pd.read_csv(open_file)\n",
    "autos = read_file"
   ]
  },
  {
   "cell_type": "markdown",
   "id": "983716e5",
   "metadata": {},
   "source": [
    "Now we can look at the first couple of rows by using the [DataFrame.head()](https://pandas.pydata.org/docs/reference/api/pandas.DataFrame.head.html) function and inspect the dataframe with the [DataFrame.info()](https://pandas.pydata.org/docs/reference/api/pandas.DataFrame.info.html) function."
   ]
  },
  {
   "cell_type": "code",
   "execution_count": 3,
   "id": "836560f7",
   "metadata": {
    "scrolled": false
   },
   "outputs": [
    {
     "data": {
      "text/html": [
       "<div>\n",
       "<style scoped>\n",
       "    .dataframe tbody tr th:only-of-type {\n",
       "        vertical-align: middle;\n",
       "    }\n",
       "\n",
       "    .dataframe tbody tr th {\n",
       "        vertical-align: top;\n",
       "    }\n",
       "\n",
       "    .dataframe thead th {\n",
       "        text-align: right;\n",
       "    }\n",
       "</style>\n",
       "<table border=\"1\" class=\"dataframe\">\n",
       "  <thead>\n",
       "    <tr style=\"text-align: right;\">\n",
       "      <th></th>\n",
       "      <th>dateCrawled</th>\n",
       "      <th>name</th>\n",
       "      <th>seller</th>\n",
       "      <th>offerType</th>\n",
       "      <th>price</th>\n",
       "      <th>abtest</th>\n",
       "      <th>vehicleType</th>\n",
       "      <th>yearOfRegistration</th>\n",
       "      <th>gearbox</th>\n",
       "      <th>powerPS</th>\n",
       "      <th>model</th>\n",
       "      <th>odometer</th>\n",
       "      <th>monthOfRegistration</th>\n",
       "      <th>fuelType</th>\n",
       "      <th>brand</th>\n",
       "      <th>notRepairedDamage</th>\n",
       "      <th>dateCreated</th>\n",
       "      <th>nrOfPictures</th>\n",
       "      <th>postalCode</th>\n",
       "      <th>lastSeen</th>\n",
       "    </tr>\n",
       "  </thead>\n",
       "  <tbody>\n",
       "    <tr>\n",
       "      <th>0</th>\n",
       "      <td>2016-03-26 17:47:46</td>\n",
       "      <td>Peugeot_807_160_NAVTECH_ON_BOARD</td>\n",
       "      <td>privat</td>\n",
       "      <td>Angebot</td>\n",
       "      <td>$5,000</td>\n",
       "      <td>control</td>\n",
       "      <td>bus</td>\n",
       "      <td>2004</td>\n",
       "      <td>manuell</td>\n",
       "      <td>158</td>\n",
       "      <td>andere</td>\n",
       "      <td>150,000km</td>\n",
       "      <td>3</td>\n",
       "      <td>lpg</td>\n",
       "      <td>peugeot</td>\n",
       "      <td>nein</td>\n",
       "      <td>2016-03-26 00:00:00</td>\n",
       "      <td>0</td>\n",
       "      <td>79588</td>\n",
       "      <td>2016-04-06 06:45:54</td>\n",
       "    </tr>\n",
       "    <tr>\n",
       "      <th>1</th>\n",
       "      <td>2016-04-04 13:38:56</td>\n",
       "      <td>BMW_740i_4_4_Liter_HAMANN_UMBAU_Mega_Optik</td>\n",
       "      <td>privat</td>\n",
       "      <td>Angebot</td>\n",
       "      <td>$8,500</td>\n",
       "      <td>control</td>\n",
       "      <td>limousine</td>\n",
       "      <td>1997</td>\n",
       "      <td>automatik</td>\n",
       "      <td>286</td>\n",
       "      <td>7er</td>\n",
       "      <td>150,000km</td>\n",
       "      <td>6</td>\n",
       "      <td>benzin</td>\n",
       "      <td>bmw</td>\n",
       "      <td>nein</td>\n",
       "      <td>2016-04-04 00:00:00</td>\n",
       "      <td>0</td>\n",
       "      <td>71034</td>\n",
       "      <td>2016-04-06 14:45:08</td>\n",
       "    </tr>\n",
       "    <tr>\n",
       "      <th>2</th>\n",
       "      <td>2016-03-26 18:57:24</td>\n",
       "      <td>Volkswagen_Golf_1.6_United</td>\n",
       "      <td>privat</td>\n",
       "      <td>Angebot</td>\n",
       "      <td>$8,990</td>\n",
       "      <td>test</td>\n",
       "      <td>limousine</td>\n",
       "      <td>2009</td>\n",
       "      <td>manuell</td>\n",
       "      <td>102</td>\n",
       "      <td>golf</td>\n",
       "      <td>70,000km</td>\n",
       "      <td>7</td>\n",
       "      <td>benzin</td>\n",
       "      <td>volkswagen</td>\n",
       "      <td>nein</td>\n",
       "      <td>2016-03-26 00:00:00</td>\n",
       "      <td>0</td>\n",
       "      <td>35394</td>\n",
       "      <td>2016-04-06 20:15:37</td>\n",
       "    </tr>\n",
       "    <tr>\n",
       "      <th>3</th>\n",
       "      <td>2016-03-12 16:58:10</td>\n",
       "      <td>Smart_smart_fortwo_coupe_softouch/F1/Klima/Pan...</td>\n",
       "      <td>privat</td>\n",
       "      <td>Angebot</td>\n",
       "      <td>$4,350</td>\n",
       "      <td>control</td>\n",
       "      <td>kleinwagen</td>\n",
       "      <td>2007</td>\n",
       "      <td>automatik</td>\n",
       "      <td>71</td>\n",
       "      <td>fortwo</td>\n",
       "      <td>70,000km</td>\n",
       "      <td>6</td>\n",
       "      <td>benzin</td>\n",
       "      <td>smart</td>\n",
       "      <td>nein</td>\n",
       "      <td>2016-03-12 00:00:00</td>\n",
       "      <td>0</td>\n",
       "      <td>33729</td>\n",
       "      <td>2016-03-15 03:16:28</td>\n",
       "    </tr>\n",
       "    <tr>\n",
       "      <th>4</th>\n",
       "      <td>2016-04-01 14:38:50</td>\n",
       "      <td>Ford_Focus_1_6_Benzin_TÜV_neu_ist_sehr_gepfleg...</td>\n",
       "      <td>privat</td>\n",
       "      <td>Angebot</td>\n",
       "      <td>$1,350</td>\n",
       "      <td>test</td>\n",
       "      <td>kombi</td>\n",
       "      <td>2003</td>\n",
       "      <td>manuell</td>\n",
       "      <td>0</td>\n",
       "      <td>focus</td>\n",
       "      <td>150,000km</td>\n",
       "      <td>7</td>\n",
       "      <td>benzin</td>\n",
       "      <td>ford</td>\n",
       "      <td>nein</td>\n",
       "      <td>2016-04-01 00:00:00</td>\n",
       "      <td>0</td>\n",
       "      <td>39218</td>\n",
       "      <td>2016-04-01 14:38:50</td>\n",
       "    </tr>\n",
       "  </tbody>\n",
       "</table>\n",
       "</div>"
      ],
      "text/plain": [
       "           dateCrawled                                               name  \\\n",
       "0  2016-03-26 17:47:46                   Peugeot_807_160_NAVTECH_ON_BOARD   \n",
       "1  2016-04-04 13:38:56         BMW_740i_4_4_Liter_HAMANN_UMBAU_Mega_Optik   \n",
       "2  2016-03-26 18:57:24                         Volkswagen_Golf_1.6_United   \n",
       "3  2016-03-12 16:58:10  Smart_smart_fortwo_coupe_softouch/F1/Klima/Pan...   \n",
       "4  2016-04-01 14:38:50  Ford_Focus_1_6_Benzin_TÜV_neu_ist_sehr_gepfleg...   \n",
       "\n",
       "   seller offerType   price   abtest vehicleType  yearOfRegistration  \\\n",
       "0  privat   Angebot  $5,000  control         bus                2004   \n",
       "1  privat   Angebot  $8,500  control   limousine                1997   \n",
       "2  privat   Angebot  $8,990     test   limousine                2009   \n",
       "3  privat   Angebot  $4,350  control  kleinwagen                2007   \n",
       "4  privat   Angebot  $1,350     test       kombi                2003   \n",
       "\n",
       "     gearbox  powerPS   model   odometer  monthOfRegistration fuelType  \\\n",
       "0    manuell      158  andere  150,000km                    3      lpg   \n",
       "1  automatik      286     7er  150,000km                    6   benzin   \n",
       "2    manuell      102    golf   70,000km                    7   benzin   \n",
       "3  automatik       71  fortwo   70,000km                    6   benzin   \n",
       "4    manuell        0   focus  150,000km                    7   benzin   \n",
       "\n",
       "        brand notRepairedDamage          dateCreated  nrOfPictures  \\\n",
       "0     peugeot              nein  2016-03-26 00:00:00             0   \n",
       "1         bmw              nein  2016-04-04 00:00:00             0   \n",
       "2  volkswagen              nein  2016-03-26 00:00:00             0   \n",
       "3       smart              nein  2016-03-12 00:00:00             0   \n",
       "4        ford              nein  2016-04-01 00:00:00             0   \n",
       "\n",
       "   postalCode             lastSeen  \n",
       "0       79588  2016-04-06 06:45:54  \n",
       "1       71034  2016-04-06 14:45:08  \n",
       "2       35394  2016-04-06 20:15:37  \n",
       "3       33729  2016-03-15 03:16:28  \n",
       "4       39218  2016-04-01 14:38:50  "
      ]
     },
     "execution_count": 3,
     "metadata": {},
     "output_type": "execute_result"
    }
   ],
   "source": [
    "autos.head()"
   ]
  },
  {
   "cell_type": "code",
   "execution_count": 4,
   "id": "7eaf5850",
   "metadata": {
    "scrolled": true
   },
   "outputs": [
    {
     "name": "stdout",
     "output_type": "stream",
     "text": [
      "<class 'pandas.core.frame.DataFrame'>\n",
      "RangeIndex: 50000 entries, 0 to 49999\n",
      "Data columns (total 20 columns):\n",
      " #   Column               Non-Null Count  Dtype \n",
      "---  ------               --------------  ----- \n",
      " 0   dateCrawled          50000 non-null  object\n",
      " 1   name                 50000 non-null  object\n",
      " 2   seller               50000 non-null  object\n",
      " 3   offerType            50000 non-null  object\n",
      " 4   price                50000 non-null  object\n",
      " 5   abtest               50000 non-null  object\n",
      " 6   vehicleType          44905 non-null  object\n",
      " 7   yearOfRegistration   50000 non-null  int64 \n",
      " 8   gearbox              47320 non-null  object\n",
      " 9   powerPS              50000 non-null  int64 \n",
      " 10  model                47242 non-null  object\n",
      " 11  odometer             50000 non-null  object\n",
      " 12  monthOfRegistration  50000 non-null  int64 \n",
      " 13  fuelType             45518 non-null  object\n",
      " 14  brand                50000 non-null  object\n",
      " 15  notRepairedDamage    40171 non-null  object\n",
      " 16  dateCreated          50000 non-null  object\n",
      " 17  nrOfPictures         50000 non-null  int64 \n",
      " 18  postalCode           50000 non-null  int64 \n",
      " 19  lastSeen             50000 non-null  object\n",
      "dtypes: int64(5), object(15)\n",
      "memory usage: 7.6+ MB\n"
     ]
    }
   ],
   "source": [
    "autos.info()"
   ]
  },
  {
   "cell_type": "markdown",
   "id": "a1fbd417",
   "metadata": {},
   "source": [
    "\n",
    "When we look at the dataframe we can see the following things:\n",
    "- The dataframe contains 20 columns mainly being made up of `objects`, but also contain `int64`\n",
    "- Some of the columns have `NULL` values, but none of the columns have more than 20% `NULL`\n",
    "- The column names use the [CamelCase]( https://en.wikipedia.org/wiki/Camel_case) instead of Python’s preferred [snakecase](https://en.wikipedia.org/wiki/Snake_case)\n"
   ]
  },
  {
   "cell_type": "markdown",
   "id": "84697f21",
   "metadata": {},
   "source": [
    "# __Cleaning the DataFrame__"
   ]
  },
  {
   "cell_type": "markdown",
   "id": "e362a72a",
   "metadata": {},
   "source": [
    "## __Camelcase vs Snakecase__"
   ]
  },
  {
   "cell_type": "markdown",
   "id": "a8b589f6",
   "metadata": {},
   "source": [
    "Now we need to convert our column names from camelcase into snakecase we can do this by editing a copy of the columns and assigning them back to the dataframe."
   ]
  },
  {
   "cell_type": "code",
   "execution_count": 5,
   "id": "83081092",
   "metadata": {},
   "outputs": [
    {
     "data": {
      "text/plain": [
       "Index(['dateCrawled', 'name', 'seller', 'offerType', 'price', 'abtest',\n",
       "       'vehicleType', 'yearOfRegistration', 'gearbox', 'powerPS', 'model',\n",
       "       'odometer', 'monthOfRegistration', 'fuelType', 'brand',\n",
       "       'notRepairedDamage', 'dateCreated', 'nrOfPictures', 'postalCode',\n",
       "       'lastSeen'],\n",
       "      dtype='object')"
      ]
     },
     "execution_count": 5,
     "metadata": {},
     "output_type": "execute_result"
    }
   ],
   "source": [
    "autos.columns"
   ]
  },
  {
   "cell_type": "code",
   "execution_count": 6,
   "id": "21b9cc4e",
   "metadata": {
    "scrolled": true
   },
   "outputs": [
    {
     "data": {
      "text/html": [
       "<div>\n",
       "<style scoped>\n",
       "    .dataframe tbody tr th:only-of-type {\n",
       "        vertical-align: middle;\n",
       "    }\n",
       "\n",
       "    .dataframe tbody tr th {\n",
       "        vertical-align: top;\n",
       "    }\n",
       "\n",
       "    .dataframe thead th {\n",
       "        text-align: right;\n",
       "    }\n",
       "</style>\n",
       "<table border=\"1\" class=\"dataframe\">\n",
       "  <thead>\n",
       "    <tr style=\"text-align: right;\">\n",
       "      <th></th>\n",
       "      <th>date_crawled</th>\n",
       "      <th>name</th>\n",
       "      <th>seller</th>\n",
       "      <th>offer_type</th>\n",
       "      <th>price</th>\n",
       "      <th>ab_test</th>\n",
       "      <th>vehicle_type</th>\n",
       "      <th>registration_year</th>\n",
       "      <th>gearbox</th>\n",
       "      <th>power_ps</th>\n",
       "      <th>model</th>\n",
       "      <th>odometer</th>\n",
       "      <th>registration_month</th>\n",
       "      <th>fuel_type</th>\n",
       "      <th>brand</th>\n",
       "      <th>unrepaired_damage</th>\n",
       "      <th>ad_created</th>\n",
       "      <th>n_pictures</th>\n",
       "      <th>postal_code</th>\n",
       "      <th>last_seen</th>\n",
       "    </tr>\n",
       "  </thead>\n",
       "  <tbody>\n",
       "    <tr>\n",
       "      <th>0</th>\n",
       "      <td>2016-03-26 17:47:46</td>\n",
       "      <td>Peugeot_807_160_NAVTECH_ON_BOARD</td>\n",
       "      <td>privat</td>\n",
       "      <td>Angebot</td>\n",
       "      <td>$5,000</td>\n",
       "      <td>control</td>\n",
       "      <td>bus</td>\n",
       "      <td>2004</td>\n",
       "      <td>manuell</td>\n",
       "      <td>158</td>\n",
       "      <td>andere</td>\n",
       "      <td>150,000km</td>\n",
       "      <td>3</td>\n",
       "      <td>lpg</td>\n",
       "      <td>peugeot</td>\n",
       "      <td>nein</td>\n",
       "      <td>2016-03-26 00:00:00</td>\n",
       "      <td>0</td>\n",
       "      <td>79588</td>\n",
       "      <td>2016-04-06 06:45:54</td>\n",
       "    </tr>\n",
       "    <tr>\n",
       "      <th>1</th>\n",
       "      <td>2016-04-04 13:38:56</td>\n",
       "      <td>BMW_740i_4_4_Liter_HAMANN_UMBAU_Mega_Optik</td>\n",
       "      <td>privat</td>\n",
       "      <td>Angebot</td>\n",
       "      <td>$8,500</td>\n",
       "      <td>control</td>\n",
       "      <td>limousine</td>\n",
       "      <td>1997</td>\n",
       "      <td>automatik</td>\n",
       "      <td>286</td>\n",
       "      <td>7er</td>\n",
       "      <td>150,000km</td>\n",
       "      <td>6</td>\n",
       "      <td>benzin</td>\n",
       "      <td>bmw</td>\n",
       "      <td>nein</td>\n",
       "      <td>2016-04-04 00:00:00</td>\n",
       "      <td>0</td>\n",
       "      <td>71034</td>\n",
       "      <td>2016-04-06 14:45:08</td>\n",
       "    </tr>\n",
       "    <tr>\n",
       "      <th>2</th>\n",
       "      <td>2016-03-26 18:57:24</td>\n",
       "      <td>Volkswagen_Golf_1.6_United</td>\n",
       "      <td>privat</td>\n",
       "      <td>Angebot</td>\n",
       "      <td>$8,990</td>\n",
       "      <td>test</td>\n",
       "      <td>limousine</td>\n",
       "      <td>2009</td>\n",
       "      <td>manuell</td>\n",
       "      <td>102</td>\n",
       "      <td>golf</td>\n",
       "      <td>70,000km</td>\n",
       "      <td>7</td>\n",
       "      <td>benzin</td>\n",
       "      <td>volkswagen</td>\n",
       "      <td>nein</td>\n",
       "      <td>2016-03-26 00:00:00</td>\n",
       "      <td>0</td>\n",
       "      <td>35394</td>\n",
       "      <td>2016-04-06 20:15:37</td>\n",
       "    </tr>\n",
       "    <tr>\n",
       "      <th>3</th>\n",
       "      <td>2016-03-12 16:58:10</td>\n",
       "      <td>Smart_smart_fortwo_coupe_softouch/F1/Klima/Pan...</td>\n",
       "      <td>privat</td>\n",
       "      <td>Angebot</td>\n",
       "      <td>$4,350</td>\n",
       "      <td>control</td>\n",
       "      <td>kleinwagen</td>\n",
       "      <td>2007</td>\n",
       "      <td>automatik</td>\n",
       "      <td>71</td>\n",
       "      <td>fortwo</td>\n",
       "      <td>70,000km</td>\n",
       "      <td>6</td>\n",
       "      <td>benzin</td>\n",
       "      <td>smart</td>\n",
       "      <td>nein</td>\n",
       "      <td>2016-03-12 00:00:00</td>\n",
       "      <td>0</td>\n",
       "      <td>33729</td>\n",
       "      <td>2016-03-15 03:16:28</td>\n",
       "    </tr>\n",
       "    <tr>\n",
       "      <th>4</th>\n",
       "      <td>2016-04-01 14:38:50</td>\n",
       "      <td>Ford_Focus_1_6_Benzin_TÜV_neu_ist_sehr_gepfleg...</td>\n",
       "      <td>privat</td>\n",
       "      <td>Angebot</td>\n",
       "      <td>$1,350</td>\n",
       "      <td>test</td>\n",
       "      <td>kombi</td>\n",
       "      <td>2003</td>\n",
       "      <td>manuell</td>\n",
       "      <td>0</td>\n",
       "      <td>focus</td>\n",
       "      <td>150,000km</td>\n",
       "      <td>7</td>\n",
       "      <td>benzin</td>\n",
       "      <td>ford</td>\n",
       "      <td>nein</td>\n",
       "      <td>2016-04-01 00:00:00</td>\n",
       "      <td>0</td>\n",
       "      <td>39218</td>\n",
       "      <td>2016-04-01 14:38:50</td>\n",
       "    </tr>\n",
       "  </tbody>\n",
       "</table>\n",
       "</div>"
      ],
      "text/plain": [
       "          date_crawled                                               name  \\\n",
       "0  2016-03-26 17:47:46                   Peugeot_807_160_NAVTECH_ON_BOARD   \n",
       "1  2016-04-04 13:38:56         BMW_740i_4_4_Liter_HAMANN_UMBAU_Mega_Optik   \n",
       "2  2016-03-26 18:57:24                         Volkswagen_Golf_1.6_United   \n",
       "3  2016-03-12 16:58:10  Smart_smart_fortwo_coupe_softouch/F1/Klima/Pan...   \n",
       "4  2016-04-01 14:38:50  Ford_Focus_1_6_Benzin_TÜV_neu_ist_sehr_gepfleg...   \n",
       "\n",
       "   seller offer_type   price  ab_test vehicle_type  registration_year  \\\n",
       "0  privat    Angebot  $5,000  control          bus               2004   \n",
       "1  privat    Angebot  $8,500  control    limousine               1997   \n",
       "2  privat    Angebot  $8,990     test    limousine               2009   \n",
       "3  privat    Angebot  $4,350  control   kleinwagen               2007   \n",
       "4  privat    Angebot  $1,350     test        kombi               2003   \n",
       "\n",
       "     gearbox  power_ps   model   odometer  registration_month fuel_type  \\\n",
       "0    manuell       158  andere  150,000km                   3       lpg   \n",
       "1  automatik       286     7er  150,000km                   6    benzin   \n",
       "2    manuell       102    golf   70,000km                   7    benzin   \n",
       "3  automatik        71  fortwo   70,000km                   6    benzin   \n",
       "4    manuell         0   focus  150,000km                   7    benzin   \n",
       "\n",
       "        brand unrepaired_damage           ad_created  n_pictures  postal_code  \\\n",
       "0     peugeot              nein  2016-03-26 00:00:00           0        79588   \n",
       "1         bmw              nein  2016-04-04 00:00:00           0        71034   \n",
       "2  volkswagen              nein  2016-03-26 00:00:00           0        35394   \n",
       "3       smart              nein  2016-03-12 00:00:00           0        33729   \n",
       "4        ford              nein  2016-04-01 00:00:00           0        39218   \n",
       "\n",
       "             last_seen  \n",
       "0  2016-04-06 06:45:54  \n",
       "1  2016-04-06 14:45:08  \n",
       "2  2016-04-06 20:15:37  \n",
       "3  2016-03-15 03:16:28  \n",
       "4  2016-04-01 14:38:50  "
      ]
     },
     "execution_count": 6,
     "metadata": {},
     "output_type": "execute_result"
    }
   ],
   "source": [
    "snake_copy = ['date_crawled', 'name', 'seller', 'offer_type', 'price', 'ab_test',\n",
    "       'vehicle_type', 'registration_year', 'gearbox', 'power_ps', 'model',\n",
    "       'odometer', 'registration_month', 'fuel_type', 'brand',\n",
    "       'unrepaired_damage', 'ad_created', 'n_pictures', 'postal_code',\n",
    "       'last_seen']\n",
    "\n",
    "autos.columns = snake_copy\n",
    "\n",
    "autos.head()"
   ]
  },
  {
   "cell_type": "markdown",
   "id": "02b39bf2",
   "metadata": {},
   "source": [
    "As we can see the columns have now been converted to snakecase this is in line with [PEP]( https://www.python.org/dev/peps/pep-0008/) making the dataframe easier to read and work with."
   ]
  },
  {
   "cell_type": "markdown",
   "id": "6272a453",
   "metadata": {},
   "source": [
    "## __Describing Data__"
   ]
  },
  {
   "cell_type": "markdown",
   "id": "afc62d83",
   "metadata": {},
   "source": [
    "Now we will look for the following things in the dataframe:\n",
    "- Any columns that have mostly one value that are candidates to be dropped\n",
    "- Any columns that need more investigation\n",
    "- Any examples of numeric data stored as text that needs to be changed.  \n"
   ]
  },
  {
   "cell_type": "code",
   "execution_count": 7,
   "id": "e3cb6eb9",
   "metadata": {
    "scrolled": true
   },
   "outputs": [
    {
     "data": {
      "text/html": [
       "<div>\n",
       "<style scoped>\n",
       "    .dataframe tbody tr th:only-of-type {\n",
       "        vertical-align: middle;\n",
       "    }\n",
       "\n",
       "    .dataframe tbody tr th {\n",
       "        vertical-align: top;\n",
       "    }\n",
       "\n",
       "    .dataframe thead th {\n",
       "        text-align: right;\n",
       "    }\n",
       "</style>\n",
       "<table border=\"1\" class=\"dataframe\">\n",
       "  <thead>\n",
       "    <tr style=\"text-align: right;\">\n",
       "      <th></th>\n",
       "      <th>date_crawled</th>\n",
       "      <th>name</th>\n",
       "      <th>seller</th>\n",
       "      <th>offer_type</th>\n",
       "      <th>price</th>\n",
       "      <th>ab_test</th>\n",
       "      <th>vehicle_type</th>\n",
       "      <th>registration_year</th>\n",
       "      <th>gearbox</th>\n",
       "      <th>power_ps</th>\n",
       "      <th>model</th>\n",
       "      <th>odometer</th>\n",
       "      <th>registration_month</th>\n",
       "      <th>fuel_type</th>\n",
       "      <th>brand</th>\n",
       "      <th>unrepaired_damage</th>\n",
       "      <th>ad_created</th>\n",
       "      <th>n_pictures</th>\n",
       "      <th>postal_code</th>\n",
       "      <th>last_seen</th>\n",
       "    </tr>\n",
       "  </thead>\n",
       "  <tbody>\n",
       "    <tr>\n",
       "      <th>count</th>\n",
       "      <td>50000</td>\n",
       "      <td>50000</td>\n",
       "      <td>50000</td>\n",
       "      <td>50000</td>\n",
       "      <td>50000</td>\n",
       "      <td>50000</td>\n",
       "      <td>44905</td>\n",
       "      <td>50000.000000</td>\n",
       "      <td>47320</td>\n",
       "      <td>50000.000000</td>\n",
       "      <td>47242</td>\n",
       "      <td>50000</td>\n",
       "      <td>50000.000000</td>\n",
       "      <td>45518</td>\n",
       "      <td>50000</td>\n",
       "      <td>40171</td>\n",
       "      <td>50000</td>\n",
       "      <td>50000.0</td>\n",
       "      <td>50000.000000</td>\n",
       "      <td>50000</td>\n",
       "    </tr>\n",
       "    <tr>\n",
       "      <th>unique</th>\n",
       "      <td>48213</td>\n",
       "      <td>38754</td>\n",
       "      <td>2</td>\n",
       "      <td>2</td>\n",
       "      <td>2357</td>\n",
       "      <td>2</td>\n",
       "      <td>8</td>\n",
       "      <td>NaN</td>\n",
       "      <td>2</td>\n",
       "      <td>NaN</td>\n",
       "      <td>245</td>\n",
       "      <td>13</td>\n",
       "      <td>NaN</td>\n",
       "      <td>7</td>\n",
       "      <td>40</td>\n",
       "      <td>2</td>\n",
       "      <td>76</td>\n",
       "      <td>NaN</td>\n",
       "      <td>NaN</td>\n",
       "      <td>39481</td>\n",
       "    </tr>\n",
       "    <tr>\n",
       "      <th>top</th>\n",
       "      <td>2016-03-16 21:50:53</td>\n",
       "      <td>Ford_Fiesta</td>\n",
       "      <td>privat</td>\n",
       "      <td>Angebot</td>\n",
       "      <td>$0</td>\n",
       "      <td>test</td>\n",
       "      <td>limousine</td>\n",
       "      <td>NaN</td>\n",
       "      <td>manuell</td>\n",
       "      <td>NaN</td>\n",
       "      <td>golf</td>\n",
       "      <td>150,000km</td>\n",
       "      <td>NaN</td>\n",
       "      <td>benzin</td>\n",
       "      <td>volkswagen</td>\n",
       "      <td>nein</td>\n",
       "      <td>2016-04-03 00:00:00</td>\n",
       "      <td>NaN</td>\n",
       "      <td>NaN</td>\n",
       "      <td>2016-04-07 06:17:27</td>\n",
       "    </tr>\n",
       "    <tr>\n",
       "      <th>freq</th>\n",
       "      <td>3</td>\n",
       "      <td>78</td>\n",
       "      <td>49999</td>\n",
       "      <td>49999</td>\n",
       "      <td>1421</td>\n",
       "      <td>25756</td>\n",
       "      <td>12859</td>\n",
       "      <td>NaN</td>\n",
       "      <td>36993</td>\n",
       "      <td>NaN</td>\n",
       "      <td>4024</td>\n",
       "      <td>32424</td>\n",
       "      <td>NaN</td>\n",
       "      <td>30107</td>\n",
       "      <td>10687</td>\n",
       "      <td>35232</td>\n",
       "      <td>1946</td>\n",
       "      <td>NaN</td>\n",
       "      <td>NaN</td>\n",
       "      <td>8</td>\n",
       "    </tr>\n",
       "    <tr>\n",
       "      <th>mean</th>\n",
       "      <td>NaN</td>\n",
       "      <td>NaN</td>\n",
       "      <td>NaN</td>\n",
       "      <td>NaN</td>\n",
       "      <td>NaN</td>\n",
       "      <td>NaN</td>\n",
       "      <td>NaN</td>\n",
       "      <td>2005.073280</td>\n",
       "      <td>NaN</td>\n",
       "      <td>116.355920</td>\n",
       "      <td>NaN</td>\n",
       "      <td>NaN</td>\n",
       "      <td>5.723360</td>\n",
       "      <td>NaN</td>\n",
       "      <td>NaN</td>\n",
       "      <td>NaN</td>\n",
       "      <td>NaN</td>\n",
       "      <td>0.0</td>\n",
       "      <td>50813.627300</td>\n",
       "      <td>NaN</td>\n",
       "    </tr>\n",
       "    <tr>\n",
       "      <th>std</th>\n",
       "      <td>NaN</td>\n",
       "      <td>NaN</td>\n",
       "      <td>NaN</td>\n",
       "      <td>NaN</td>\n",
       "      <td>NaN</td>\n",
       "      <td>NaN</td>\n",
       "      <td>NaN</td>\n",
       "      <td>105.712813</td>\n",
       "      <td>NaN</td>\n",
       "      <td>209.216627</td>\n",
       "      <td>NaN</td>\n",
       "      <td>NaN</td>\n",
       "      <td>3.711984</td>\n",
       "      <td>NaN</td>\n",
       "      <td>NaN</td>\n",
       "      <td>NaN</td>\n",
       "      <td>NaN</td>\n",
       "      <td>0.0</td>\n",
       "      <td>25779.747957</td>\n",
       "      <td>NaN</td>\n",
       "    </tr>\n",
       "    <tr>\n",
       "      <th>min</th>\n",
       "      <td>NaN</td>\n",
       "      <td>NaN</td>\n",
       "      <td>NaN</td>\n",
       "      <td>NaN</td>\n",
       "      <td>NaN</td>\n",
       "      <td>NaN</td>\n",
       "      <td>NaN</td>\n",
       "      <td>1000.000000</td>\n",
       "      <td>NaN</td>\n",
       "      <td>0.000000</td>\n",
       "      <td>NaN</td>\n",
       "      <td>NaN</td>\n",
       "      <td>0.000000</td>\n",
       "      <td>NaN</td>\n",
       "      <td>NaN</td>\n",
       "      <td>NaN</td>\n",
       "      <td>NaN</td>\n",
       "      <td>0.0</td>\n",
       "      <td>1067.000000</td>\n",
       "      <td>NaN</td>\n",
       "    </tr>\n",
       "    <tr>\n",
       "      <th>25%</th>\n",
       "      <td>NaN</td>\n",
       "      <td>NaN</td>\n",
       "      <td>NaN</td>\n",
       "      <td>NaN</td>\n",
       "      <td>NaN</td>\n",
       "      <td>NaN</td>\n",
       "      <td>NaN</td>\n",
       "      <td>1999.000000</td>\n",
       "      <td>NaN</td>\n",
       "      <td>70.000000</td>\n",
       "      <td>NaN</td>\n",
       "      <td>NaN</td>\n",
       "      <td>3.000000</td>\n",
       "      <td>NaN</td>\n",
       "      <td>NaN</td>\n",
       "      <td>NaN</td>\n",
       "      <td>NaN</td>\n",
       "      <td>0.0</td>\n",
       "      <td>30451.000000</td>\n",
       "      <td>NaN</td>\n",
       "    </tr>\n",
       "    <tr>\n",
       "      <th>50%</th>\n",
       "      <td>NaN</td>\n",
       "      <td>NaN</td>\n",
       "      <td>NaN</td>\n",
       "      <td>NaN</td>\n",
       "      <td>NaN</td>\n",
       "      <td>NaN</td>\n",
       "      <td>NaN</td>\n",
       "      <td>2003.000000</td>\n",
       "      <td>NaN</td>\n",
       "      <td>105.000000</td>\n",
       "      <td>NaN</td>\n",
       "      <td>NaN</td>\n",
       "      <td>6.000000</td>\n",
       "      <td>NaN</td>\n",
       "      <td>NaN</td>\n",
       "      <td>NaN</td>\n",
       "      <td>NaN</td>\n",
       "      <td>0.0</td>\n",
       "      <td>49577.000000</td>\n",
       "      <td>NaN</td>\n",
       "    </tr>\n",
       "    <tr>\n",
       "      <th>75%</th>\n",
       "      <td>NaN</td>\n",
       "      <td>NaN</td>\n",
       "      <td>NaN</td>\n",
       "      <td>NaN</td>\n",
       "      <td>NaN</td>\n",
       "      <td>NaN</td>\n",
       "      <td>NaN</td>\n",
       "      <td>2008.000000</td>\n",
       "      <td>NaN</td>\n",
       "      <td>150.000000</td>\n",
       "      <td>NaN</td>\n",
       "      <td>NaN</td>\n",
       "      <td>9.000000</td>\n",
       "      <td>NaN</td>\n",
       "      <td>NaN</td>\n",
       "      <td>NaN</td>\n",
       "      <td>NaN</td>\n",
       "      <td>0.0</td>\n",
       "      <td>71540.000000</td>\n",
       "      <td>NaN</td>\n",
       "    </tr>\n",
       "    <tr>\n",
       "      <th>max</th>\n",
       "      <td>NaN</td>\n",
       "      <td>NaN</td>\n",
       "      <td>NaN</td>\n",
       "      <td>NaN</td>\n",
       "      <td>NaN</td>\n",
       "      <td>NaN</td>\n",
       "      <td>NaN</td>\n",
       "      <td>9999.000000</td>\n",
       "      <td>NaN</td>\n",
       "      <td>17700.000000</td>\n",
       "      <td>NaN</td>\n",
       "      <td>NaN</td>\n",
       "      <td>12.000000</td>\n",
       "      <td>NaN</td>\n",
       "      <td>NaN</td>\n",
       "      <td>NaN</td>\n",
       "      <td>NaN</td>\n",
       "      <td>0.0</td>\n",
       "      <td>99998.000000</td>\n",
       "      <td>NaN</td>\n",
       "    </tr>\n",
       "  </tbody>\n",
       "</table>\n",
       "</div>"
      ],
      "text/plain": [
       "               date_crawled         name  seller offer_type  price ab_test  \\\n",
       "count                 50000        50000   50000      50000  50000   50000   \n",
       "unique                48213        38754       2          2   2357       2   \n",
       "top     2016-03-16 21:50:53  Ford_Fiesta  privat    Angebot     $0    test   \n",
       "freq                      3           78   49999      49999   1421   25756   \n",
       "mean                    NaN          NaN     NaN        NaN    NaN     NaN   \n",
       "std                     NaN          NaN     NaN        NaN    NaN     NaN   \n",
       "min                     NaN          NaN     NaN        NaN    NaN     NaN   \n",
       "25%                     NaN          NaN     NaN        NaN    NaN     NaN   \n",
       "50%                     NaN          NaN     NaN        NaN    NaN     NaN   \n",
       "75%                     NaN          NaN     NaN        NaN    NaN     NaN   \n",
       "max                     NaN          NaN     NaN        NaN    NaN     NaN   \n",
       "\n",
       "       vehicle_type  registration_year  gearbox      power_ps  model  \\\n",
       "count         44905       50000.000000    47320  50000.000000  47242   \n",
       "unique            8                NaN        2           NaN    245   \n",
       "top       limousine                NaN  manuell           NaN   golf   \n",
       "freq          12859                NaN    36993           NaN   4024   \n",
       "mean            NaN        2005.073280      NaN    116.355920    NaN   \n",
       "std             NaN         105.712813      NaN    209.216627    NaN   \n",
       "min             NaN        1000.000000      NaN      0.000000    NaN   \n",
       "25%             NaN        1999.000000      NaN     70.000000    NaN   \n",
       "50%             NaN        2003.000000      NaN    105.000000    NaN   \n",
       "75%             NaN        2008.000000      NaN    150.000000    NaN   \n",
       "max             NaN        9999.000000      NaN  17700.000000    NaN   \n",
       "\n",
       "         odometer  registration_month fuel_type       brand unrepaired_damage  \\\n",
       "count       50000        50000.000000     45518       50000             40171   \n",
       "unique         13                 NaN         7          40                 2   \n",
       "top     150,000km                 NaN    benzin  volkswagen              nein   \n",
       "freq        32424                 NaN     30107       10687             35232   \n",
       "mean          NaN            5.723360       NaN         NaN               NaN   \n",
       "std           NaN            3.711984       NaN         NaN               NaN   \n",
       "min           NaN            0.000000       NaN         NaN               NaN   \n",
       "25%           NaN            3.000000       NaN         NaN               NaN   \n",
       "50%           NaN            6.000000       NaN         NaN               NaN   \n",
       "75%           NaN            9.000000       NaN         NaN               NaN   \n",
       "max           NaN           12.000000       NaN         NaN               NaN   \n",
       "\n",
       "                 ad_created  n_pictures   postal_code            last_seen  \n",
       "count                 50000     50000.0  50000.000000                50000  \n",
       "unique                   76         NaN           NaN                39481  \n",
       "top     2016-04-03 00:00:00         NaN           NaN  2016-04-07 06:17:27  \n",
       "freq                   1946         NaN           NaN                    8  \n",
       "mean                    NaN         0.0  50813.627300                  NaN  \n",
       "std                     NaN         0.0  25779.747957                  NaN  \n",
       "min                     NaN         0.0   1067.000000                  NaN  \n",
       "25%                     NaN         0.0  30451.000000                  NaN  \n",
       "50%                     NaN         0.0  49577.000000                  NaN  \n",
       "75%                     NaN         0.0  71540.000000                  NaN  \n",
       "max                     NaN         0.0  99998.000000                  NaN  "
      ]
     },
     "execution_count": 7,
     "metadata": {},
     "output_type": "execute_result"
    }
   ],
   "source": [
    "autos.describe(include='all')"
   ]
  },
  {
   "cell_type": "markdown",
   "id": "98924d9c",
   "metadata": {},
   "source": [
    "## __Dropping Columns__"
   ]
  },
  {
   "cell_type": "markdown",
   "id": "638dd286",
   "metadata": {},
   "source": [
    "We will now explore columns with less than 10 unique entries to see if they can be removed. If the column has mainly only one value, then it will be removed."
   ]
  },
  {
   "cell_type": "code",
   "execution_count": 8,
   "id": "e1714b48",
   "metadata": {},
   "outputs": [
    {
     "name": "stdout",
     "output_type": "stream",
     "text": [
      "seller\n",
      "privat        49999\n",
      "gewerblich        1\n",
      "Name: seller, dtype: int64\n",
      "\n",
      "\n",
      "offer_type\n",
      "Angebot    49999\n",
      "Gesuch         1\n",
      "Name: offer_type, dtype: int64\n",
      "\n",
      "\n",
      "ab_test\n",
      "test       25756\n",
      "control    24244\n",
      "Name: ab_test, dtype: int64\n",
      "\n",
      "\n",
      "vehicle_type\n",
      "limousine     12859\n",
      "kleinwagen    10822\n",
      "kombi          9127\n",
      "bus            4093\n",
      "cabrio         3061\n",
      "coupe          2537\n",
      "suv            1986\n",
      "andere          420\n",
      "Name: vehicle_type, dtype: int64\n",
      "\n",
      "\n",
      "gearbox\n",
      "manuell      36993\n",
      "automatik    10327\n",
      "Name: gearbox, dtype: int64\n",
      "\n",
      "\n",
      "fuel_type\n",
      "benzin     30107\n",
      "diesel     14567\n",
      "lpg          691\n",
      "cng           75\n",
      "hybrid        37\n",
      "andere        22\n",
      "elektro       19\n",
      "Name: fuel_type, dtype: int64\n",
      "\n",
      "\n",
      "unrepaired_damage\n",
      "nein    35232\n",
      "ja       4939\n",
      "Name: unrepaired_damage, dtype: int64\n",
      "\n",
      "\n",
      "n_pictures\n",
      "0    50000\n",
      "Name: n_pictures, dtype: int64\n"
     ]
    }
   ],
   "source": [
    "seller = autos['seller'].value_counts()\n",
    "offer_type = autos['offer_type'].value_counts()\n",
    "ab_test = autos['ab_test'].value_counts()\n",
    "vehicle_type = autos['vehicle_type'].value_counts()\n",
    "gearbox = autos['gearbox'].value_counts()\n",
    "fuel_type = autos['fuel_type'].value_counts()\n",
    "unrepaired_damage = autos['unrepaired_damage'].value_counts()\n",
    "n_pictures = autos['n_pictures'].value_counts()\n",
    "\n",
    "print('seller')\n",
    "print(seller)\n",
    "print('\\n')\n",
    "print('offer_type')\n",
    "print(offer_type)\n",
    "print('\\n')\n",
    "print('ab_test')\n",
    "print(ab_test)\n",
    "print('\\n')\n",
    "print('vehicle_type')\n",
    "print(vehicle_type)\n",
    "print('\\n')\n",
    "print('gearbox')\n",
    "print(gearbox)\n",
    "print('\\n')\n",
    "print('fuel_type')\n",
    "print(fuel_type)\n",
    "print('\\n')\n",
    "print('unrepaired_damage')\n",
    "print(unrepaired_damage)\n",
    "print('\\n')\n",
    "print('n_pictures')\n",
    "print(n_pictures)"
   ]
  },
  {
   "cell_type": "markdown",
   "id": "4ba78c64",
   "metadata": {},
   "source": [
    "As we can see above the only columns that have predominantly one value are `seller` , `offer_type` and ` n_pictures`.  The seller’s column contains data showing that 49,999 sales where through private methods and only 1 were sold via request.  For the `offer_type` column we can see that one entry offer makes up over 49,999 entries while request only appears 1 times. The `n_pictures` column only contains the value zero. \n",
    "\n",
    "This makes these columns ideal candidates to be dropped, as the other columns we investigated had their entries more distributed between the unique entries. "
   ]
  },
  {
   "cell_type": "code",
   "execution_count": 9,
   "id": "008d03d1",
   "metadata": {
    "scrolled": true
   },
   "outputs": [
    {
     "data": {
      "text/html": [
       "<div>\n",
       "<style scoped>\n",
       "    .dataframe tbody tr th:only-of-type {\n",
       "        vertical-align: middle;\n",
       "    }\n",
       "\n",
       "    .dataframe tbody tr th {\n",
       "        vertical-align: top;\n",
       "    }\n",
       "\n",
       "    .dataframe thead th {\n",
       "        text-align: right;\n",
       "    }\n",
       "</style>\n",
       "<table border=\"1\" class=\"dataframe\">\n",
       "  <thead>\n",
       "    <tr style=\"text-align: right;\">\n",
       "      <th></th>\n",
       "      <th>date_crawled</th>\n",
       "      <th>name</th>\n",
       "      <th>price</th>\n",
       "      <th>ab_test</th>\n",
       "      <th>vehicle_type</th>\n",
       "      <th>registration_year</th>\n",
       "      <th>gearbox</th>\n",
       "      <th>power_ps</th>\n",
       "      <th>model</th>\n",
       "      <th>odometer</th>\n",
       "      <th>registration_month</th>\n",
       "      <th>fuel_type</th>\n",
       "      <th>brand</th>\n",
       "      <th>unrepaired_damage</th>\n",
       "      <th>ad_created</th>\n",
       "      <th>postal_code</th>\n",
       "      <th>last_seen</th>\n",
       "    </tr>\n",
       "  </thead>\n",
       "  <tbody>\n",
       "    <tr>\n",
       "      <th>0</th>\n",
       "      <td>2016-03-26 17:47:46</td>\n",
       "      <td>Peugeot_807_160_NAVTECH_ON_BOARD</td>\n",
       "      <td>$5,000</td>\n",
       "      <td>control</td>\n",
       "      <td>bus</td>\n",
       "      <td>2004</td>\n",
       "      <td>manuell</td>\n",
       "      <td>158</td>\n",
       "      <td>andere</td>\n",
       "      <td>150,000km</td>\n",
       "      <td>3</td>\n",
       "      <td>lpg</td>\n",
       "      <td>peugeot</td>\n",
       "      <td>nein</td>\n",
       "      <td>2016-03-26 00:00:00</td>\n",
       "      <td>79588</td>\n",
       "      <td>2016-04-06 06:45:54</td>\n",
       "    </tr>\n",
       "    <tr>\n",
       "      <th>1</th>\n",
       "      <td>2016-04-04 13:38:56</td>\n",
       "      <td>BMW_740i_4_4_Liter_HAMANN_UMBAU_Mega_Optik</td>\n",
       "      <td>$8,500</td>\n",
       "      <td>control</td>\n",
       "      <td>limousine</td>\n",
       "      <td>1997</td>\n",
       "      <td>automatik</td>\n",
       "      <td>286</td>\n",
       "      <td>7er</td>\n",
       "      <td>150,000km</td>\n",
       "      <td>6</td>\n",
       "      <td>benzin</td>\n",
       "      <td>bmw</td>\n",
       "      <td>nein</td>\n",
       "      <td>2016-04-04 00:00:00</td>\n",
       "      <td>71034</td>\n",
       "      <td>2016-04-06 14:45:08</td>\n",
       "    </tr>\n",
       "    <tr>\n",
       "      <th>2</th>\n",
       "      <td>2016-03-26 18:57:24</td>\n",
       "      <td>Volkswagen_Golf_1.6_United</td>\n",
       "      <td>$8,990</td>\n",
       "      <td>test</td>\n",
       "      <td>limousine</td>\n",
       "      <td>2009</td>\n",
       "      <td>manuell</td>\n",
       "      <td>102</td>\n",
       "      <td>golf</td>\n",
       "      <td>70,000km</td>\n",
       "      <td>7</td>\n",
       "      <td>benzin</td>\n",
       "      <td>volkswagen</td>\n",
       "      <td>nein</td>\n",
       "      <td>2016-03-26 00:00:00</td>\n",
       "      <td>35394</td>\n",
       "      <td>2016-04-06 20:15:37</td>\n",
       "    </tr>\n",
       "    <tr>\n",
       "      <th>3</th>\n",
       "      <td>2016-03-12 16:58:10</td>\n",
       "      <td>Smart_smart_fortwo_coupe_softouch/F1/Klima/Pan...</td>\n",
       "      <td>$4,350</td>\n",
       "      <td>control</td>\n",
       "      <td>kleinwagen</td>\n",
       "      <td>2007</td>\n",
       "      <td>automatik</td>\n",
       "      <td>71</td>\n",
       "      <td>fortwo</td>\n",
       "      <td>70,000km</td>\n",
       "      <td>6</td>\n",
       "      <td>benzin</td>\n",
       "      <td>smart</td>\n",
       "      <td>nein</td>\n",
       "      <td>2016-03-12 00:00:00</td>\n",
       "      <td>33729</td>\n",
       "      <td>2016-03-15 03:16:28</td>\n",
       "    </tr>\n",
       "    <tr>\n",
       "      <th>4</th>\n",
       "      <td>2016-04-01 14:38:50</td>\n",
       "      <td>Ford_Focus_1_6_Benzin_TÜV_neu_ist_sehr_gepfleg...</td>\n",
       "      <td>$1,350</td>\n",
       "      <td>test</td>\n",
       "      <td>kombi</td>\n",
       "      <td>2003</td>\n",
       "      <td>manuell</td>\n",
       "      <td>0</td>\n",
       "      <td>focus</td>\n",
       "      <td>150,000km</td>\n",
       "      <td>7</td>\n",
       "      <td>benzin</td>\n",
       "      <td>ford</td>\n",
       "      <td>nein</td>\n",
       "      <td>2016-04-01 00:00:00</td>\n",
       "      <td>39218</td>\n",
       "      <td>2016-04-01 14:38:50</td>\n",
       "    </tr>\n",
       "  </tbody>\n",
       "</table>\n",
       "</div>"
      ],
      "text/plain": [
       "          date_crawled                                               name  \\\n",
       "0  2016-03-26 17:47:46                   Peugeot_807_160_NAVTECH_ON_BOARD   \n",
       "1  2016-04-04 13:38:56         BMW_740i_4_4_Liter_HAMANN_UMBAU_Mega_Optik   \n",
       "2  2016-03-26 18:57:24                         Volkswagen_Golf_1.6_United   \n",
       "3  2016-03-12 16:58:10  Smart_smart_fortwo_coupe_softouch/F1/Klima/Pan...   \n",
       "4  2016-04-01 14:38:50  Ford_Focus_1_6_Benzin_TÜV_neu_ist_sehr_gepfleg...   \n",
       "\n",
       "    price  ab_test vehicle_type  registration_year    gearbox  power_ps  \\\n",
       "0  $5,000  control          bus               2004    manuell       158   \n",
       "1  $8,500  control    limousine               1997  automatik       286   \n",
       "2  $8,990     test    limousine               2009    manuell       102   \n",
       "3  $4,350  control   kleinwagen               2007  automatik        71   \n",
       "4  $1,350     test        kombi               2003    manuell         0   \n",
       "\n",
       "    model   odometer  registration_month fuel_type       brand  \\\n",
       "0  andere  150,000km                   3       lpg     peugeot   \n",
       "1     7er  150,000km                   6    benzin         bmw   \n",
       "2    golf   70,000km                   7    benzin  volkswagen   \n",
       "3  fortwo   70,000km                   6    benzin       smart   \n",
       "4   focus  150,000km                   7    benzin        ford   \n",
       "\n",
       "  unrepaired_damage           ad_created  postal_code            last_seen  \n",
       "0              nein  2016-03-26 00:00:00        79588  2016-04-06 06:45:54  \n",
       "1              nein  2016-04-04 00:00:00        71034  2016-04-06 14:45:08  \n",
       "2              nein  2016-03-26 00:00:00        35394  2016-04-06 20:15:37  \n",
       "3              nein  2016-03-12 00:00:00        33729  2016-03-15 03:16:28  \n",
       "4              nein  2016-04-01 00:00:00        39218  2016-04-01 14:38:50  "
      ]
     },
     "execution_count": 9,
     "metadata": {},
     "output_type": "execute_result"
    }
   ],
   "source": [
    "autos_drop = autos.drop(['seller','offer_type','n_pictures'], axis=1)\n",
    "autos_drop.head()"
   ]
  },
  {
   "cell_type": "markdown",
   "id": "b4024c4e",
   "metadata": {},
   "source": [
    "## __Converting Data Type of Column__"
   ]
  },
  {
   "cell_type": "markdown",
   "id": "a1aebb8e",
   "metadata": {},
   "source": [
    "Now that we have dropped the columns that contain mostly one value, now we will look for columns that are numeric data stored as text objects. As we can see in the previous `describe()` output above we can see that the `price` and the `odometer` need to be converted. We will do this the following way:\n",
    "- Remove any non-numeric charecters. \n",
    "- Convert the column to numeric dtype.\n",
    "- Use the `DataFrame.rename()` to rename the columns "
   ]
  },
  {
   "cell_type": "markdown",
   "id": "1c68abdb",
   "metadata": {},
   "source": [
    "### __Removing Non-Numeric Charecters__"
   ]
  },
  {
   "cell_type": "markdown",
   "id": "b4e54fd1",
   "metadata": {},
   "source": [
    "To remove the non-numeric characters from the `odometer` and `price` series we will use the [`replace()`](https://pandas.pydata.org/docs/reference/api/pandas.DataFrame.replace.html) function to remove the `km` from `odometer`, the `$` from `price` and  `,` from both of the series."
   ]
  },
  {
   "cell_type": "code",
   "execution_count": 10,
   "id": "8bbdc3f6",
   "metadata": {
    "scrolled": true
   },
   "outputs": [
    {
     "name": "stdout",
     "output_type": "stream",
     "text": [
      "  odometer price\n",
      "0   150000  5000\n",
      "1   150000  8500\n",
      "2    70000  8990\n",
      "3    70000  4350\n",
      "4   150000  1350\n"
     ]
    }
   ],
   "source": [
    "autos_drop['odometer'] = autos_drop['odometer'].str.replace('km','').str.replace(',','')\n",
    "autos_drop['price'] = autos_drop['price'].str.replace('$','', regex=True).str.replace(',','')\n",
    "\n",
    "print(autos_drop[['odometer','price']].head())"
   ]
  },
  {
   "cell_type": "markdown",
   "id": "b8afda41",
   "metadata": {},
   "source": [
    "### __Convert the Column to Numeric Data Type__"
   ]
  },
  {
   "cell_type": "markdown",
   "id": "2560f4d4",
   "metadata": {},
   "source": [
    "Now that we have removed the non-numeric characters from the `odometer` and `price` series, we now convert them from an `object` type to `int` type to allow easier manipulation later in the project. we can convert the data type using the [`astype()`]( https://pandas.pydata.org/docs/reference/api/pandas.DataFrame.astype.html) function. \n",
    "\n"
   ]
  },
  {
   "cell_type": "code",
   "execution_count": 11,
   "id": "92ac60db",
   "metadata": {},
   "outputs": [
    {
     "data": {
      "text/html": [
       "<div>\n",
       "<style scoped>\n",
       "    .dataframe tbody tr th:only-of-type {\n",
       "        vertical-align: middle;\n",
       "    }\n",
       "\n",
       "    .dataframe tbody tr th {\n",
       "        vertical-align: top;\n",
       "    }\n",
       "\n",
       "    .dataframe thead th {\n",
       "        text-align: right;\n",
       "    }\n",
       "</style>\n",
       "<table border=\"1\" class=\"dataframe\">\n",
       "  <thead>\n",
       "    <tr style=\"text-align: right;\">\n",
       "      <th></th>\n",
       "      <th>odometer</th>\n",
       "      <th>price</th>\n",
       "    </tr>\n",
       "  </thead>\n",
       "  <tbody>\n",
       "    <tr>\n",
       "      <th>count</th>\n",
       "      <td>50000.000000</td>\n",
       "      <td>5.000000e+04</td>\n",
       "    </tr>\n",
       "    <tr>\n",
       "      <th>mean</th>\n",
       "      <td>125732.700000</td>\n",
       "      <td>9.840044e+03</td>\n",
       "    </tr>\n",
       "    <tr>\n",
       "      <th>std</th>\n",
       "      <td>40042.211706</td>\n",
       "      <td>4.811044e+05</td>\n",
       "    </tr>\n",
       "    <tr>\n",
       "      <th>min</th>\n",
       "      <td>5000.000000</td>\n",
       "      <td>0.000000e+00</td>\n",
       "    </tr>\n",
       "    <tr>\n",
       "      <th>25%</th>\n",
       "      <td>125000.000000</td>\n",
       "      <td>1.100000e+03</td>\n",
       "    </tr>\n",
       "    <tr>\n",
       "      <th>50%</th>\n",
       "      <td>150000.000000</td>\n",
       "      <td>2.950000e+03</td>\n",
       "    </tr>\n",
       "    <tr>\n",
       "      <th>75%</th>\n",
       "      <td>150000.000000</td>\n",
       "      <td>7.200000e+03</td>\n",
       "    </tr>\n",
       "    <tr>\n",
       "      <th>max</th>\n",
       "      <td>150000.000000</td>\n",
       "      <td>1.000000e+08</td>\n",
       "    </tr>\n",
       "  </tbody>\n",
       "</table>\n",
       "</div>"
      ],
      "text/plain": [
       "            odometer         price\n",
       "count   50000.000000  5.000000e+04\n",
       "mean   125732.700000  9.840044e+03\n",
       "std     40042.211706  4.811044e+05\n",
       "min      5000.000000  0.000000e+00\n",
       "25%    125000.000000  1.100000e+03\n",
       "50%    150000.000000  2.950000e+03\n",
       "75%    150000.000000  7.200000e+03\n",
       "max    150000.000000  1.000000e+08"
      ]
     },
     "execution_count": 11,
     "metadata": {},
     "output_type": "execute_result"
    }
   ],
   "source": [
    "autos_drop['odometer'] = autos_drop['odometer'].astype(int)\n",
    "autos_drop['price'] = autos_drop['price'].astype(int)\n",
    "\n",
    "autos_drop[['odometer','price']].describe()"
   ]
  },
  {
   "cell_type": "markdown",
   "id": "6ee739ed",
   "metadata": {},
   "source": [
    "### __Renaming Columns__"
   ]
  },
  {
   "cell_type": "markdown",
   "id": "5a368979",
   "metadata": {},
   "source": [
    "Now we can rename our numeric columns to better describe the contains by including the units. We will add km and $ to the columns using the [`rename()`](https://pandas.pydata.org/docs/reference/api/pandas.DataFrame.rename.html ) function. "
   ]
  },
  {
   "cell_type": "code",
   "execution_count": 12,
   "id": "d963aad5",
   "metadata": {
    "scrolled": true
   },
   "outputs": [
    {
     "data": {
      "text/html": [
       "<div>\n",
       "<style scoped>\n",
       "    .dataframe tbody tr th:only-of-type {\n",
       "        vertical-align: middle;\n",
       "    }\n",
       "\n",
       "    .dataframe tbody tr th {\n",
       "        vertical-align: top;\n",
       "    }\n",
       "\n",
       "    .dataframe thead th {\n",
       "        text-align: right;\n",
       "    }\n",
       "</style>\n",
       "<table border=\"1\" class=\"dataframe\">\n",
       "  <thead>\n",
       "    <tr style=\"text-align: right;\">\n",
       "      <th></th>\n",
       "      <th>odometer_km</th>\n",
       "      <th>€_price</th>\n",
       "    </tr>\n",
       "  </thead>\n",
       "  <tbody>\n",
       "    <tr>\n",
       "      <th>0</th>\n",
       "      <td>150000</td>\n",
       "      <td>5000</td>\n",
       "    </tr>\n",
       "    <tr>\n",
       "      <th>1</th>\n",
       "      <td>150000</td>\n",
       "      <td>8500</td>\n",
       "    </tr>\n",
       "    <tr>\n",
       "      <th>2</th>\n",
       "      <td>70000</td>\n",
       "      <td>8990</td>\n",
       "    </tr>\n",
       "    <tr>\n",
       "      <th>3</th>\n",
       "      <td>70000</td>\n",
       "      <td>4350</td>\n",
       "    </tr>\n",
       "    <tr>\n",
       "      <th>4</th>\n",
       "      <td>150000</td>\n",
       "      <td>1350</td>\n",
       "    </tr>\n",
       "  </tbody>\n",
       "</table>\n",
       "</div>"
      ],
      "text/plain": [
       "   odometer_km  €_price\n",
       "0       150000     5000\n",
       "1       150000     8500\n",
       "2        70000     8990\n",
       "3        70000     4350\n",
       "4       150000     1350"
      ]
     },
     "execution_count": 12,
     "metadata": {},
     "output_type": "execute_result"
    }
   ],
   "source": [
    "autos_drop.rename({'odometer':'odometer_km'}, axis = 1, inplace = True)\n",
    "autos_drop.rename({'price':'€_price'}, axis = 1, inplace = True)\n",
    "\n",
    "autos = autos_drop\n",
    "\n",
    "autos[['odometer_km','€_price']].head()"
   ]
  },
  {
   "cell_type": "markdown",
   "id": "2c9428ea",
   "metadata": {},
   "source": [
    "## __Removing Outlining Data__"
   ]
  },
  {
   "cell_type": "markdown",
   "id": "5c115e77",
   "metadata": {},
   "source": [
    "We will now explore the odometer_km and the $_price to find outlying data and remove it.  We will start by looking at the odometer_km column using the[`unique`]( https://pandas.pydata.org/docs/reference/api/pandas.unique.html),  [`shpe`]( https://pandas.pydata.org/pandas-docs/version/0.23/generated/pandas.DataFrame.shape.html), [`describe()`](https://pandas.pydata.org/docs/reference/api/pandas.DataFrame.describe.html), [`value_counts()`](https://pandas.pydata.org/docs/reference/api/pandas.Series.value_counts.html) functions."
   ]
  },
  {
   "cell_type": "markdown",
   "id": "9316baa8",
   "metadata": {},
   "source": [
    "### __Removing Outlining odometer_km Values__"
   ]
  },
  {
   "cell_type": "code",
   "execution_count": 13,
   "id": "0ad25dba",
   "metadata": {},
   "outputs": [
    {
     "data": {
      "text/plain": [
       "(13,)"
      ]
     },
     "execution_count": 13,
     "metadata": {},
     "output_type": "execute_result"
    }
   ],
   "source": [
    "autos['odometer_km'].unique().shape"
   ]
  },
  {
   "cell_type": "markdown",
   "id": "c7513c6c",
   "metadata": {},
   "source": [
    "As seen in the cell above, there are 13 unique `odometer_km` values. We can use the [` value_counts()`](https://pandas.pydata.org/docs/reference/api/pandas.Series.value_counts.html)  and [`describe()`](https://pandas.pydata.org/docs/reference/api/pandas.DataFrame.describe.html) function to see how the values are distributed. "
   ]
  },
  {
   "cell_type": "code",
   "execution_count": 14,
   "id": "9dab1853",
   "metadata": {
    "scrolled": true
   },
   "outputs": [
    {
     "data": {
      "text/plain": [
       "150000    32424\n",
       "125000     5170\n",
       "100000     2169\n",
       "90000      1757\n",
       "80000      1436\n",
       "70000      1230\n",
       "60000      1164\n",
       "50000      1027\n",
       "5000        967\n",
       "40000       819\n",
       "30000       789\n",
       "20000       784\n",
       "10000       264\n",
       "Name: odometer_km, dtype: int64"
      ]
     },
     "execution_count": 14,
     "metadata": {},
     "output_type": "execute_result"
    }
   ],
   "source": [
    "autos['odometer_km'].value_counts()"
   ]
  },
  {
   "cell_type": "code",
   "execution_count": 15,
   "id": "e021a858",
   "metadata": {
    "scrolled": true
   },
   "outputs": [
    {
     "data": {
      "text/plain": [
       "count     50000.000000\n",
       "mean     125732.700000\n",
       "std       40042.211706\n",
       "min        5000.000000\n",
       "25%      125000.000000\n",
       "50%      150000.000000\n",
       "75%      150000.000000\n",
       "max      150000.000000\n",
       "Name: odometer_km, dtype: float64"
      ]
     },
     "execution_count": 15,
     "metadata": {},
     "output_type": "execute_result"
    }
   ],
   "source": [
    "autos['odometer_km'].describe()"
   ]
  },
  {
   "cell_type": "markdown",
   "id": "34f0128d",
   "metadata": {},
   "source": [
    "As we see above, the `odometer_km` column the data is skewed to the left with the mean being lower than the mode. That said, there appears to be no dramatic outliners. The maximum value which is also the mode is 150,000 km which is reasonable for a used car. The minimum of 5,000 km is also appears to be a reasonable number of kilometres for a used car. "
   ]
  },
  {
   "cell_type": "markdown",
   "id": "9f85c9d2",
   "metadata": {},
   "source": [
    "### __Removing Outlining €_price Values__"
   ]
  },
  {
   "cell_type": "code",
   "execution_count": 16,
   "id": "92b8ec5f",
   "metadata": {},
   "outputs": [
    {
     "data": {
      "text/plain": [
       "(2357,)"
      ]
     },
     "execution_count": 16,
     "metadata": {},
     "output_type": "execute_result"
    }
   ],
   "source": [
    "autos['€_price'].unique().shape"
   ]
  },
  {
   "cell_type": "markdown",
   "id": "67666d24",
   "metadata": {},
   "source": [
    "As seen in the cell above, there are 2357 unique `€_price` values. This is far greater than the unique values for the `odometer_km` columns. Due to this is more likely that there will be more outlining values. Next we will use the [`describe()`](https://pandas.pydata.org/docs/reference/api/pandas.DataFrame.describe.html) function to look at the statistical values."
   ]
  },
  {
   "cell_type": "code",
   "execution_count": 17,
   "id": "184a513a",
   "metadata": {},
   "outputs": [
    {
     "data": {
      "text/plain": [
       "count    5.000000e+04\n",
       "mean     9.840044e+03\n",
       "std      4.811044e+05\n",
       "min      0.000000e+00\n",
       "25%      1.100000e+03\n",
       "50%      2.950000e+03\n",
       "75%      7.200000e+03\n",
       "max      1.000000e+08\n",
       "Name: €_price, dtype: float64"
      ]
     },
     "execution_count": 17,
     "metadata": {},
     "output_type": "execute_result"
    }
   ],
   "source": [
    "autos['€_price'].describe()"
   ]
  },
  {
   "cell_type": "markdown",
   "id": "d95d21ae",
   "metadata": {},
   "source": [
    "When looking at the output above we see that the data is values are widely distributed. This can be seen with the standard distribution for the price is €48,1104.40. This is suspicions as the mean price is € 9,840.04. This could be a result of having the values being mainly skewed towards both the maximum (€ 100,000,000.00) and the minimum (€ 0.00).  The data being skewed this way also is supported by the lower quartile (€ 1,100.00), median (€ 2,950.00), and upper quartile (€ 7200.00) are all within the same magnitude. \n",
    "\n",
    "So, the next step would be to look at the values located around both the maximum and minimum values. For the maximum values we will look at how many cars have prices above € 150k, € 100k, € 50k, and € 10k. To do this we make a Boolean index with where we filter for prices greater than our desired value. We will then select the €_price from our selection and use the pandas [`size`](https://pandas.pydata.org/docs/reference/api/pandas.Series.size.html) method to see how many cars meet our criteria."
   ]
  },
  {
   "cell_type": "code",
   "execution_count": 18,
   "id": "cfbc65a3",
   "metadata": {
    "scrolled": false
   },
   "outputs": [
    {
     "name": "stdout",
     "output_type": "stream",
     "text": [
      "Number of cars over 150k\n",
      "34\n",
      "\n",
      "\n",
      "Number of cars over 100k\n",
      "53\n",
      "\n",
      "\n",
      "Number of cars over 50k\n",
      "200\n",
      "\n",
      "\n",
      "Number of cars over 10k\n",
      "8073\n"
     ]
    }
   ],
   "source": [
    "high_price_150k = autos[autos['€_price']> 150000]\n",
    "high_price_100k = autos[autos['€_price']> 100000]\n",
    "high_price_50k = autos[autos['€_price']> 50000]\n",
    "high_price_10k = autos[autos['€_price']> 10000]\n",
    "\n",
    "print('Number of cars over 150k')\n",
    "print(high_price_150k['€_price'].size)\n",
    "print('\\n')\n",
    "print('Number of cars over 100k')\n",
    "print(high_price_100k['€_price'].size)\n",
    "print('\\n')\n",
    "print('Number of cars over 50k')\n",
    "print(high_price_50k['€_price'].size)\n",
    "print('\\n')\n",
    "print('Number of cars over 10k')\n",
    "print(high_price_10k['€_price'].size)"
   ]
  },
  {
   "cell_type": "markdown",
   "id": "f7049494",
   "metadata": {},
   "source": [
    "As we can see, wen we look as cars priced over € 10k we see that there are 8000+ values. This is a massive increase compared with cars over € 50k as there are only 200 entries. Due to this it would make sense to remove values where the `€_price` is over € 50k. "
   ]
  },
  {
   "cell_type": "markdown",
   "id": "6b217a26",
   "metadata": {},
   "source": [
    "Now that we have found outliners towards the maximum values. Now we will use similar techniques to inspect values towards the minimum of the array.   We will look at values equal to 0, less than € 500, € 1k, € 5k. "
   ]
  },
  {
   "cell_type": "code",
   "execution_count": 19,
   "id": "0bff4990",
   "metadata": {},
   "outputs": [
    {
     "name": "stdout",
     "output_type": "stream",
     "text": [
      "Number of cars equal to 0\n",
      "1421\n",
      "\n",
      "\n",
      "Number of cars under 100\n",
      "1896\n",
      "\n",
      "\n",
      "Number of cars under 500\n",
      "5670\n",
      "\n",
      "\n",
      "Number of cars under 1k\n",
      "11999\n"
     ]
    }
   ],
   "source": [
    "low_price_0 = autos[autos['€_price']<= 0]\n",
    "low_price_100 = autos[autos['€_price']<= 100]\n",
    "low_price_500 = autos[autos['€_price']<= 500]\n",
    "low_price_1k = autos[autos['€_price']<= 1000]\n",
    "\n",
    "print('Number of cars equal to 0')\n",
    "print(low_price_0['€_price'].size)\n",
    "print('\\n')\n",
    "print('Number of cars under 100')\n",
    "print(low_price_100['€_price'].size)\n",
    "print('\\n')\n",
    "print('Number of cars under 500')\n",
    "print(low_price_500['€_price'].size)\n",
    "print('\\n')\n",
    "print('Number of cars under 1k')\n",
    "print(low_price_1k['€_price'].size)"
   ]
  },
  {
   "cell_type": "markdown",
   "id": "ebd2cea1",
   "metadata": {},
   "source": [
    "We can see that there are 1896 values that are less than € 100 which are unrealistically low. We will therefore remove values between € 50,000 and € 100 as that will hopefully give us a more realistic data. "
   ]
  },
  {
   "cell_type": "code",
   "execution_count": 20,
   "id": "afc9be49",
   "metadata": {
    "scrolled": true
   },
   "outputs": [
    {
     "data": {
      "text/plain": [
       "count    48038.000000\n",
       "mean      5611.942691\n",
       "std       6723.459745\n",
       "min        100.000000\n",
       "25%       1250.000000\n",
       "50%       3000.000000\n",
       "75%       7400.000000\n",
       "max      50000.000000\n",
       "Name: €_price, dtype: float64"
      ]
     },
     "execution_count": 20,
     "metadata": {},
     "output_type": "execute_result"
    }
   ],
   "source": [
    "autos = autos[autos['€_price'].between(100,50000)]\n",
    "\n",
    "autos['€_price'].describe()"
   ]
  },
  {
   "cell_type": "markdown",
   "id": "9d751ccb",
   "metadata": {},
   "source": [
    "We can now see that we have removed about 2,000 entries but our new standard deviation is now smaller meaning that the data is better distributed.  "
   ]
  },
  {
   "cell_type": "markdown",
   "id": "3bf3e990",
   "metadata": {},
   "source": [
    "## __Exploring The Date Columns__"
   ]
  },
  {
   "cell_type": "markdown",
   "id": "1cf815bd",
   "metadata": {},
   "source": [
    "Let’s now move to the data columns. There are 5 columns that represent date values. Some created by the crawler, other created came from the website itself. We can see these columns bellow:\n",
    "- `date_crawled`: added by the crawler\n",
    "- `last_seen`: added by the crawler\n",
    "- `ad_created`: from the website\n",
    "- `registration_month`: from the website \n",
    "- `registration_year`: from the website\n",
    "\n",
    "When we look back to when we looked at the data types we saw in the beginning of the project, we see that some of these dates are stored as `str` and some as `int`. The `date_crawled`, `last_seen`, `ad_created` are stored as `str` so we need to convert it into a numeric representation so we can understand it quantitatively.\n",
    "\n",
    "To do this we need to inspect how these three columns are formatted. "
   ]
  },
  {
   "cell_type": "markdown",
   "id": "7bb94c59",
   "metadata": {},
   "source": [
    "### __Formating date_crawled, ad_created and last_seen Column__"
   ]
  },
  {
   "cell_type": "code",
   "execution_count": 21,
   "id": "40203c4a",
   "metadata": {
    "scrolled": false
   },
   "outputs": [
    {
     "data": {
      "text/html": [
       "<div>\n",
       "<style scoped>\n",
       "    .dataframe tbody tr th:only-of-type {\n",
       "        vertical-align: middle;\n",
       "    }\n",
       "\n",
       "    .dataframe tbody tr th {\n",
       "        vertical-align: top;\n",
       "    }\n",
       "\n",
       "    .dataframe thead th {\n",
       "        text-align: right;\n",
       "    }\n",
       "</style>\n",
       "<table border=\"1\" class=\"dataframe\">\n",
       "  <thead>\n",
       "    <tr style=\"text-align: right;\">\n",
       "      <th></th>\n",
       "      <th>date_crawled</th>\n",
       "      <th>ad_created</th>\n",
       "      <th>last_seen</th>\n",
       "    </tr>\n",
       "  </thead>\n",
       "  <tbody>\n",
       "    <tr>\n",
       "      <th>0</th>\n",
       "      <td>2016-03-26 17:47:46</td>\n",
       "      <td>2016-03-26 00:00:00</td>\n",
       "      <td>2016-04-06 06:45:54</td>\n",
       "    </tr>\n",
       "    <tr>\n",
       "      <th>1</th>\n",
       "      <td>2016-04-04 13:38:56</td>\n",
       "      <td>2016-04-04 00:00:00</td>\n",
       "      <td>2016-04-06 14:45:08</td>\n",
       "    </tr>\n",
       "    <tr>\n",
       "      <th>2</th>\n",
       "      <td>2016-03-26 18:57:24</td>\n",
       "      <td>2016-03-26 00:00:00</td>\n",
       "      <td>2016-04-06 20:15:37</td>\n",
       "    </tr>\n",
       "    <tr>\n",
       "      <th>3</th>\n",
       "      <td>2016-03-12 16:58:10</td>\n",
       "      <td>2016-03-12 00:00:00</td>\n",
       "      <td>2016-03-15 03:16:28</td>\n",
       "    </tr>\n",
       "    <tr>\n",
       "      <th>4</th>\n",
       "      <td>2016-04-01 14:38:50</td>\n",
       "      <td>2016-04-01 00:00:00</td>\n",
       "      <td>2016-04-01 14:38:50</td>\n",
       "    </tr>\n",
       "  </tbody>\n",
       "</table>\n",
       "</div>"
      ],
      "text/plain": [
       "          date_crawled           ad_created            last_seen\n",
       "0  2016-03-26 17:47:46  2016-03-26 00:00:00  2016-04-06 06:45:54\n",
       "1  2016-04-04 13:38:56  2016-04-04 00:00:00  2016-04-06 14:45:08\n",
       "2  2016-03-26 18:57:24  2016-03-26 00:00:00  2016-04-06 20:15:37\n",
       "3  2016-03-12 16:58:10  2016-03-12 00:00:00  2016-03-15 03:16:28\n",
       "4  2016-04-01 14:38:50  2016-04-01 00:00:00  2016-04-01 14:38:50"
      ]
     },
     "execution_count": 21,
     "metadata": {},
     "output_type": "execute_result"
    }
   ],
   "source": [
    "autos[['date_crawled', 'ad_created','last_seen']][0:5]"
   ]
  },
  {
   "cell_type": "markdown",
   "id": "0a3ad1dd",
   "metadata": {},
   "source": [
    "As we can see in the output above, we can see that the first 10 characters represents the day. We can extract the first 10 characters by using pandas [`vectorized string functions`]( https://pandas.pydata.org/docs/reference/api/pandas.Series.str.html)  and slicing the string from character `0` to `9`.  \n",
    "\n",
    "Let’s look at this output using the `date_crawled` column."
   ]
  },
  {
   "cell_type": "code",
   "execution_count": 22,
   "id": "ab84ca5a",
   "metadata": {
    "scrolled": true
   },
   "outputs": [
    {
     "name": "stderr",
     "output_type": "stream",
     "text": [
      "<ipython-input-22-30152bdb52ab>:1: SettingWithCopyWarning: \n",
      "A value is trying to be set on a copy of a slice from a DataFrame.\n",
      "Try using .loc[row_indexer,col_indexer] = value instead\n",
      "\n",
      "See the caveats in the documentation: https://pandas.pydata.org/pandas-docs/stable/user_guide/indexing.html#returning-a-view-versus-a-copy\n",
      "  autos['date_crawled'] = autos['date_crawled'].str.split(r' ').str[0]\n",
      "<ipython-input-22-30152bdb52ab>:2: SettingWithCopyWarning: \n",
      "A value is trying to be set on a copy of a slice from a DataFrame.\n",
      "Try using .loc[row_indexer,col_indexer] = value instead\n",
      "\n",
      "See the caveats in the documentation: https://pandas.pydata.org/pandas-docs/stable/user_guide/indexing.html#returning-a-view-versus-a-copy\n",
      "  autos['ad_created'] = autos['ad_created'].str.split(r' ').str[0]\n",
      "<ipython-input-22-30152bdb52ab>:3: SettingWithCopyWarning: \n",
      "A value is trying to be set on a copy of a slice from a DataFrame.\n",
      "Try using .loc[row_indexer,col_indexer] = value instead\n",
      "\n",
      "See the caveats in the documentation: https://pandas.pydata.org/pandas-docs/stable/user_guide/indexing.html#returning-a-view-versus-a-copy\n",
      "  autos['last_seen'] = autos['last_seen'].str.split(r' ').str[0]\n"
     ]
    },
    {
     "data": {
      "text/plain": [
       "0    2016-03-26\n",
       "1    2016-04-04\n",
       "2    2016-03-26\n",
       "3    2016-03-12\n",
       "4    2016-04-01\n",
       "Name: date_crawled, dtype: object"
      ]
     },
     "execution_count": 22,
     "metadata": {},
     "output_type": "execute_result"
    }
   ],
   "source": [
    "autos['date_crawled'] = autos['date_crawled'].str.split(r' ').str[0]\n",
    "autos['ad_created'] = autos['ad_created'].str.split(r' ').str[0]\n",
    "autos['last_seen'] = autos['last_seen'].str.split(r' ').str[0]\n",
    "\n",
    "autos['date_crawled'].str[:10].head()"
   ]
  },
  {
   "cell_type": "markdown",
   "id": "7a118e31",
   "metadata": {},
   "source": [
    "Now we can see that we are able to extract the date from the strings. We can now use the [`value_counts()`](https://pandas.pydata.org/docs/reference/api/pandas.Series.value_counts.html) to inspect the distribution of when dates. We will also specify `normalize` to represent the counts as a relative frequency, we will also specify `dropna` as false to include missing values."
   ]
  },
  {
   "cell_type": "code",
   "execution_count": 23,
   "id": "e2650508",
   "metadata": {
    "scrolled": true
   },
   "outputs": [
    {
     "data": {
      "text/plain": [
       "2016-03-05    2.5%\n",
       "2016-03-06    1.4%\n",
       "2016-03-07    3.6%\n",
       "2016-03-08    3.3%\n",
       "2016-03-09    3.3%\n",
       "Name: date_crawled, dtype: object"
      ]
     },
     "execution_count": 23,
     "metadata": {},
     "output_type": "execute_result"
    }
   ],
   "source": [
    "autos_date_c  = autos['date_crawled'].str[:10].value_counts(normalize=True,dropna = False).mul(100).round(1).astype(str) + '%' \n",
    "autos_date_c.sort_index().head()"
   ]
  },
  {
   "cell_type": "markdown",
   "id": "e0c543b3",
   "metadata": {},
   "source": [
    "As we see above the `date crawled` column appears to be evenly distributed, every single day has less then `4%`. This shows us that the crawler crated this data evenly between March and April 2016. We will use the same syntax as above to explore the `ad_created` and `last_seen`column."
   ]
  },
  {
   "cell_type": "code",
   "execution_count": 24,
   "id": "e2ae7133",
   "metadata": {
    "scrolled": true
   },
   "outputs": [
    {
     "data": {
      "text/plain": [
       "2015-06-11    0.0%\n",
       "2015-08-10    0.0%\n",
       "2015-09-09    0.0%\n",
       "2015-11-10    0.0%\n",
       "2015-12-05    0.0%\n",
       "Name: ad_created, dtype: object"
      ]
     },
     "execution_count": 24,
     "metadata": {},
     "output_type": "execute_result"
    }
   ],
   "source": [
    "autos_ad_created  = autos['ad_created'].str[:10].value_counts(normalize=True,dropna = False).mul(100).round(1).astype(str) + '%' \n",
    "autos_ad_created.sort_index().head()"
   ]
  },
  {
   "cell_type": "markdown",
   "id": "bf478ee6",
   "metadata": {},
   "source": [
    "The `ad_created` column contains dates from June 2015 to April 2016. The majority of ads in the dataset were created after the date on which data was crawled for the first time.  This is in line with what we expected as eBay Kleinanzeigen host live actions for cars so it is reasonable that the auctions do not last months on-end. "
   ]
  },
  {
   "cell_type": "code",
   "execution_count": 25,
   "id": "8e174bbf",
   "metadata": {},
   "outputs": [
    {
     "data": {
      "text/plain": [
       "2016-03-05     0.1%\n",
       "2016-03-06     0.4%\n",
       "2016-03-07     0.5%\n",
       "2016-03-08     0.7%\n",
       "2016-03-09     1.0%\n",
       "2016-03-10     1.1%\n",
       "2016-03-11     1.2%\n",
       "2016-03-12     2.4%\n",
       "2016-03-13     0.9%\n",
       "2016-03-14     1.3%\n",
       "2016-03-15     1.6%\n",
       "2016-03-16     1.6%\n",
       "2016-03-17     2.8%\n",
       "2016-03-18     0.7%\n",
       "2016-03-19     1.6%\n",
       "2016-03-20     2.1%\n",
       "2016-03-21     2.1%\n",
       "2016-03-22     2.1%\n",
       "2016-03-23     1.9%\n",
       "2016-03-24     2.0%\n",
       "2016-03-25     1.9%\n",
       "2016-03-26     1.7%\n",
       "2016-03-27     1.6%\n",
       "2016-03-28     2.1%\n",
       "2016-03-29     2.2%\n",
       "2016-03-30     2.5%\n",
       "2016-03-31     2.4%\n",
       "2016-04-01     2.3%\n",
       "2016-04-02     2.5%\n",
       "2016-04-03     2.5%\n",
       "2016-04-04     2.5%\n",
       "2016-04-05    12.5%\n",
       "2016-04-06    22.2%\n",
       "2016-04-07    13.2%\n",
       "Name: last_seen, dtype: object"
      ]
     },
     "execution_count": 25,
     "metadata": {},
     "output_type": "execute_result"
    }
   ],
   "source": [
    "autos_last_seen = autos['last_seen'].str[:10].value_counts(normalize=True,dropna = False).mul(100).round(1).astype(str)+'%'\n",
    "autos_last_seen.sort_index()"
   ]
  },
  {
   "cell_type": "markdown",
   "id": "204c72ea",
   "metadata": {},
   "source": [
    "We can see that the data is left skewed with the with the majority of the data (`47.6%`) grouped within the last 3 days. This may be due to the nature if the crawler, as these spikes occurred during the last couple of data extraction and due to a spike in second hand car sales in early April. "
   ]
  },
  {
   "cell_type": "markdown",
   "id": "14210189",
   "metadata": {},
   "source": [
    "## __Expolring Registration__"
   ]
  },
  {
   "cell_type": "markdown",
   "id": "cc067659",
   "metadata": {},
   "source": [
    "Now we will now look at both the `registration month` and ` registration year`. We will start with looking at the registration month, we expect to see the values spread evenly over the months of the year. We can simply use the [`value_counts`]( https://pandas.pydata.org/docs/reference/api/pandas.Series.value_counts.html) function. "
   ]
  },
  {
   "cell_type": "markdown",
   "id": "2a08893b",
   "metadata": {},
   "source": [
    "###  __Expolring registration_month__"
   ]
  },
  {
   "cell_type": "code",
   "execution_count": 26,
   "id": "23c4c2e0",
   "metadata": {
    "scrolled": true
   },
   "outputs": [
    {
     "data": {
      "text/plain": [
       "3     4958\n",
       "0     4310\n",
       "6     4226\n",
       "5     4009\n",
       "4     4004\n",
       "7     3811\n",
       "10    3569\n",
       "12    3349\n",
       "9     3305\n",
       "11    3288\n",
       "1     3188\n",
       "8     3107\n",
       "2     2914\n",
       "Name: registration_month, dtype: int64"
      ]
     },
     "execution_count": 26,
     "metadata": {},
     "output_type": "execute_result"
    }
   ],
   "source": [
    "autos['registration_month'].value_counts()"
   ]
  },
  {
   "cell_type": "markdown",
   "id": "7e0f476a",
   "metadata": {},
   "source": [
    "As we can see, the moths appear to be evenly distributed. One curious thing however is that there appear to be 13 months. The month `0` has `5075` entries, this is odd as there is no month zero. Looking at the data it appears that the `0` month is assigned when there appeared to be no `registration_month`.\n",
    "\n",
    "However, as the documentations for this dataset appears to have been deleted along with the original post, we will remove these values using the pandas [`between()`](https://pandas.pydata.org/docs/reference/api/pandas.Series.between.html) as we cannot confirm what they are. "
   ]
  },
  {
   "cell_type": "code",
   "execution_count": 27,
   "id": "f34ef4c7",
   "metadata": {
    "scrolled": false
   },
   "outputs": [
    {
     "data": {
      "text/plain": [
       "count    43728.000000\n",
       "mean         6.371913\n",
       "std          3.350165\n",
       "min          1.000000\n",
       "25%          3.000000\n",
       "50%          6.000000\n",
       "75%          9.000000\n",
       "max         12.000000\n",
       "Name: registration_month, dtype: float64"
      ]
     },
     "execution_count": 27,
     "metadata": {},
     "output_type": "execute_result"
    }
   ],
   "source": [
    "autos = autos[autos['registration_month'].between(1,12)]\n",
    "\n",
    "autos['registration_month'].describe()"
   ]
  },
  {
   "cell_type": "markdown",
   "id": "17c5a915",
   "metadata": {},
   "source": [
    "### __Expolring registration_year__"
   ]
  },
  {
   "cell_type": "markdown",
   "id": "36cf1efc",
   "metadata": {},
   "source": [
    "Now we will look at the `registration_year`, which we can predict to have more values compared to the `registration_month` as there will be a much greater range as `registration_month` only have 12 values. We will use the pandas [`describe()`](https://pandas.pydata.org/docs/reference/api/pandas.DataFrame.describe.html) function to look at the descriptive statistics of the series. "
   ]
  },
  {
   "cell_type": "code",
   "execution_count": 28,
   "id": "2e35e5d2",
   "metadata": {
    "scrolled": true
   },
   "outputs": [
    {
     "data": {
      "text/plain": [
       "count    43728.000000\n",
       "mean      2004.053901\n",
       "std         44.435961\n",
       "min       1800.000000\n",
       "25%       1999.000000\n",
       "50%       2004.000000\n",
       "75%       2008.000000\n",
       "max       9000.000000\n",
       "Name: registration_year, dtype: float64"
      ]
     },
     "execution_count": 28,
     "metadata": {},
     "output_type": "execute_result"
    }
   ],
   "source": [
    "autos['registration_year'].describe()"
   ]
  },
  {
   "cell_type": "markdown",
   "id": "d0fd1f19",
   "metadata": {},
   "source": [
    "When we look at the descriptive statistics of the ` registration_year` we instantly see some suspicious numbers.  The `min` ` registration_year` is `1800`, this is obviously not possible as the car was not invented until [1886 by German inventor Carl Benz]( https://en.wikipedia.org/wiki/Benz_Patent-Motorwagen) and the first commercial car was not manufactured until [1908 by the Ford Motor Company](https://en.wikipedia.org/wiki/Ford_Model_T).  There also appears to be an issue with the `max` value as it’s the year`9000`. This is odiously not possible as this data was collected in `2016` so that is our maximum possible year, meaning that any year grafter that `2016` must have been an error\n",
    "\n",
    "The other values do however appear to be what we expected. The `mean` being `2004` and the interquartile range being at `1999` and `2008` makes sense for used cars sold in `2016`. The last stat that we should look at would be the standard deviation. Standard deviation (`44.44 years`) appears to be small in comparison with the large number in our dataset, this tells us that there are a small number of outliners in our dataset. \n",
    "\n",
    "To remove the extreme outliners we will use the pandas [`between()`](https://pandas.pydata.org/docs/reference/api/pandas.Series.between.html) function again and we will select values between `1900` and `2016`.\n"
   ]
  },
  {
   "cell_type": "code",
   "execution_count": 29,
   "id": "abae071d",
   "metadata": {
    "scrolled": true
   },
   "outputs": [
    {
     "data": {
      "text/plain": [
       "count    42305.000000\n",
       "mean      2003.201276\n",
       "std          6.883309\n",
       "min       1927.000000\n",
       "25%       1999.000000\n",
       "50%       2004.000000\n",
       "75%       2008.000000\n",
       "max       2016.000000\n",
       "Name: registration_year, dtype: float64"
      ]
     },
     "execution_count": 29,
     "metadata": {},
     "output_type": "execute_result"
    }
   ],
   "source": [
    "autos = autos[autos['registration_year'].between(1900,2016)]\n",
    "\n",
    "\n",
    "autos['registration_year'].describe()"
   ]
  },
  {
   "cell_type": "markdown",
   "id": "75a96646",
   "metadata": {},
   "source": [
    "As we see in the new descriptive statistics a total of `1,432` cars were removed. The `registration_year` new `min` and `max` appear to be reasonable values being `1927` and `2016`. We also see that  the interquartile range did not change and the standard deviation became much smaller as we predicted. \n",
    "\n",
    "We will now look at the distribution of the `registration_year` using the [`value_count()`](https://pandas.pydata.org/docs/reference/api/pandas.Series.value_counts.html) to look at the relative frequency for each years."
   ]
  },
  {
   "cell_type": "code",
   "execution_count": 30,
   "id": "5cbd17c6",
   "metadata": {
    "scrolled": true
   },
   "outputs": [
    {
     "data": {
      "text/plain": [
       "2016    2.134%\n",
       "2015    0.801%\n",
       "2014    1.508%\n",
       "2013    1.822%\n",
       "2012    3.011%\n",
       "Name: registration_year, dtype: object"
      ]
     },
     "execution_count": 30,
     "metadata": {},
     "output_type": "execute_result"
    }
   ],
   "source": [
    "autos_reg_y = autos['registration_year'].value_counts(normalize=True).mul(100).round(3).astype(str) + '%'\n",
    "autos_reg_y.sort_index(ascending=False).head()"
   ]
  },
  {
   "cell_type": "markdown",
   "id": "b3da6055",
   "metadata": {},
   "source": [
    "Now that we see the value counts for the ` registration_year` we can see that the majority of cars being sold are between the 7-18 years old. This is not surprising as that is a common age range for a car to be sold second hand. "
   ]
  },
  {
   "cell_type": "markdown",
   "id": "437f2cf8",
   "metadata": {},
   "source": [
    "## __Exploring Price of Car Brands__"
   ]
  },
  {
   "cell_type": "markdown",
   "id": "bd593f00",
   "metadata": {},
   "source": [
    "The next part of our analysis is to look at the `brand` column of the cars sold and see what the average price for each of the brands are. Let’s use the [`describe()`](https://pandas.pydata.org/docs/reference/api/pandas.DataFrame.describe.html) and [`value_counts()`](https://pandas.pydata.org/docs/reference/api/pandas.Series.value_counts.html) function to look at how the `brand` column."
   ]
  },
  {
   "cell_type": "code",
   "execution_count": 31,
   "id": "5c743448",
   "metadata": {},
   "outputs": [
    {
     "data": {
      "text/plain": [
       "count          42305\n",
       "unique            40\n",
       "top       volkswagen\n",
       "freq            8851\n",
       "Name: brand, dtype: object"
      ]
     },
     "execution_count": 31,
     "metadata": {},
     "output_type": "execute_result"
    }
   ],
   "source": [
    "autos['brand'].describe()"
   ]
  },
  {
   "cell_type": "markdown",
   "id": "fffd2406",
   "metadata": {},
   "source": [
    "We can see in the [`describe()`](https://pandas.pydata.org/docs/reference/api/pandas.DataFrame.describe.html) output above we can see that there are 40 unique car brands in the dataset. We can now use the [`value_counts`]( https://pandas.pydata.org/docs/reference/api/pandas.Series.value_counts.html)to see the frequency of brands spread over the data. "
   ]
  },
  {
   "cell_type": "code",
   "execution_count": 32,
   "id": "63d9bb34",
   "metadata": {
    "scrolled": true
   },
   "outputs": [
    {
     "data": {
      "text/plain": [
       "volkswagen       20.9%\n",
       "bmw              11.2%\n",
       "opel             10.4%\n",
       "mercedes_benz    10.0%\n",
       "audi              8.8%\n",
       "Name: brand, dtype: object"
      ]
     },
     "execution_count": 32,
     "metadata": {},
     "output_type": "execute_result"
    }
   ],
   "source": [
    "autos_brand = autos['brand'].value_counts(normalize=True).mul(100).round(1).astype(str) + '%'\n",
    "\n",
    "autos_brand.head()"
   ]
  },
  {
   "cell_type": "markdown",
   "id": "d02bec50",
   "metadata": {},
   "source": [
    "From the frequency table above, we see that the brands are not evenly distributed. Brands like `Volkswagen`, `BMW`, `Opel` and `Mercedes Benz` have over `10%` of sales each. When looking at the spread we can see that we should use the 20 highest vales to aggregate. We can select the first 20 values by using the [`Series.index`]( https://pandas.pydata.org/docs/reference/api/pandas.Series.index.html) to slice the desired indexes. "
   ]
  },
  {
   "cell_type": "code",
   "execution_count": 33,
   "id": "5bcc06d9",
   "metadata": {
    "scrolled": false
   },
   "outputs": [
    {
     "name": "stdout",
     "output_type": "stream",
     "text": [
      "Index(['volkswagen', 'bmw', 'opel', 'mercedes_benz', 'audi', 'ford', 'renault',\n",
      "       'peugeot', 'fiat', 'seat', 'skoda', 'nissan', 'mazda', 'smart',\n",
      "       'citroen', 'toyota', 'hyundai', 'mini', 'volvo', 'sonstige_autos'],\n",
      "      dtype='object')\n"
     ]
    }
   ],
   "source": [
    "autos_brand_index = autos_brand.index[0:20]\n",
    "print(autos_brand_index)"
   ]
  },
  {
   "cell_type": "markdown",
   "id": "afd7ffd0",
   "metadata": {},
   "source": [
    "Now that we have our desired brands in a list format, we can iterate over the list and compare the brands to the brand column in the dataframe. We will use the [`Dataframe.mean()`](https://pandas.pydata.org/docs/reference/api/pandas.DataFrame.mean.html) function."
   ]
  },
  {
   "cell_type": "code",
   "execution_count": 34,
   "id": "f6fd2a89",
   "metadata": {
    "scrolled": true
   },
   "outputs": [
    {
     "data": {
      "text/plain": [
       "{'volkswagen': 5758,\n",
       " 'bmw': 8481,\n",
       " 'opel': 3189,\n",
       " 'mercedes_benz': 8458,\n",
       " 'audi': 9461,\n",
       " 'ford': 3849,\n",
       " 'renault': 2587,\n",
       " 'peugeot': 3236,\n",
       " 'fiat': 2975,\n",
       " 'seat': 4575,\n",
       " 'skoda': 6588,\n",
       " 'nissan': 4963,\n",
       " 'mazda': 4363,\n",
       " 'smart': 3700,\n",
       " 'citroen': 3922,\n",
       " 'toyota': 5283,\n",
       " 'hyundai': 5614,\n",
       " 'mini': 10772,\n",
       " 'volvo': 5122,\n",
       " 'sonstige_autos': 10583}"
      ]
     },
     "execution_count": 34,
     "metadata": {},
     "output_type": "execute_result"
    }
   ],
   "source": [
    "brand_mean_price = {}\n",
    "\n",
    "for brand in autos_brand_index:\n",
    "    mean_price = autos[autos['brand'] == brand]\n",
    "    brand_mean_price[brand] = round(mean_price['€_price'].mean())\n",
    "\n",
    "brand_mean_price"
   ]
  },
  {
   "cell_type": "code",
   "execution_count": 35,
   "id": "3e2b64b9",
   "metadata": {
    "scrolled": false
   },
   "outputs": [
    {
     "data": {
      "text/plain": [
       "{'mini': 10772,\n",
       " 'sonstige_autos': 10583,\n",
       " 'audi': 9461,\n",
       " 'bmw': 8481,\n",
       " 'mercedes_benz': 8458,\n",
       " 'skoda': 6588,\n",
       " 'volkswagen': 5758,\n",
       " 'hyundai': 5614,\n",
       " 'toyota': 5283,\n",
       " 'volvo': 5122,\n",
       " 'nissan': 4963,\n",
       " 'seat': 4575,\n",
       " 'mazda': 4363,\n",
       " 'citroen': 3922,\n",
       " 'ford': 3849,\n",
       " 'smart': 3700,\n",
       " 'peugeot': 3236,\n",
       " 'opel': 3189,\n",
       " 'fiat': 2975,\n",
       " 'renault': 2587}"
      ]
     },
     "execution_count": 35,
     "metadata": {},
     "output_type": "execute_result"
    }
   ],
   "source": [
    "brand_mean_price = dict(sorted(brand_mean_price.items(), key=lambda item: item[1], reverse = True))\n",
    "\n",
    "brand_mean_price"
   ]
  },
  {
   "cell_type": "markdown",
   "id": "36b37f06",
   "metadata": {},
   "source": [
    "Now that we can see our aggregated data in order of mean value, we can see a big difference compared to the previous value count. `Volkswagen` which was the most sold brand of car now is in 7th place while `Mini` and `Sonstige` have shot up to the top after being on the bottom. While other brands such as `Opel` and `Ford` have had the opposite effect and their mean price is lower than other brands. \n",
    "\n",
    " It does appear however that `Sonstige` is not a brand of car in fact but is a catch all column called `Other`.  When we look at rows that have their brand as `sonstige_autos` we see a mix of different brands within the name column and many different vehicle types.  Due to this we should disregard its high placement in the mean ranking. "
   ]
  },
  {
   "cell_type": "code",
   "execution_count": 36,
   "id": "c5b69c88",
   "metadata": {
    "scrolled": true
   },
   "outputs": [
    {
     "data": {
      "text/html": [
       "<div>\n",
       "<style scoped>\n",
       "    .dataframe tbody tr th:only-of-type {\n",
       "        vertical-align: middle;\n",
       "    }\n",
       "\n",
       "    .dataframe tbody tr th {\n",
       "        vertical-align: top;\n",
       "    }\n",
       "\n",
       "    .dataframe thead th {\n",
       "        text-align: right;\n",
       "    }\n",
       "</style>\n",
       "<table border=\"1\" class=\"dataframe\">\n",
       "  <thead>\n",
       "    <tr style=\"text-align: right;\">\n",
       "      <th></th>\n",
       "      <th>name</th>\n",
       "      <th>€_price</th>\n",
       "      <th>vehicle_type</th>\n",
       "      <th>brand</th>\n",
       "    </tr>\n",
       "  </thead>\n",
       "  <tbody>\n",
       "    <tr>\n",
       "      <th>15</th>\n",
       "      <td>Corvette_C3_Coupe_T_Top_Crossfire_Injection</td>\n",
       "      <td>18900</td>\n",
       "      <td>coupe</td>\n",
       "      <td>sonstige_autos</td>\n",
       "    </tr>\n",
       "    <tr>\n",
       "      <th>140</th>\n",
       "      <td>Ssangyong_Actyon_SUV_2.0_xdi2wd_55000_km</td>\n",
       "      <td>5400</td>\n",
       "      <td>suv</td>\n",
       "      <td>sonstige_autos</td>\n",
       "    </tr>\n",
       "    <tr>\n",
       "      <th>152</th>\n",
       "      <td>Ssanyong_Rexton_2.7</td>\n",
       "      <td>4499</td>\n",
       "      <td>suv</td>\n",
       "      <td>sonstige_autos</td>\n",
       "    </tr>\n",
       "    <tr>\n",
       "      <th>175</th>\n",
       "      <td>MG_MGB_GT</td>\n",
       "      <td>13800</td>\n",
       "      <td>coupe</td>\n",
       "      <td>sonstige_autos</td>\n",
       "    </tr>\n",
       "    <tr>\n",
       "      <th>296</th>\n",
       "      <td>Dodge_Nitro_4.0_Automatik_R/T</td>\n",
       "      <td>11500</td>\n",
       "      <td>suv</td>\n",
       "      <td>sonstige_autos</td>\n",
       "    </tr>\n",
       "    <tr>\n",
       "      <th>359</th>\n",
       "      <td>Proton_PKW</td>\n",
       "      <td>299</td>\n",
       "      <td>limousine</td>\n",
       "      <td>sonstige_autos</td>\n",
       "    </tr>\n",
       "    <tr>\n",
       "      <th>486</th>\n",
       "      <td>Wartburg_1.3</td>\n",
       "      <td>650</td>\n",
       "      <td>limousine</td>\n",
       "      <td>sonstige_autos</td>\n",
       "    </tr>\n",
       "    <tr>\n",
       "      <th>625</th>\n",
       "      <td>Werkaufen_meine_Iveco_deily</td>\n",
       "      <td>4000</td>\n",
       "      <td>bus</td>\n",
       "      <td>sonstige_autos</td>\n",
       "    </tr>\n",
       "    <tr>\n",
       "      <th>658</th>\n",
       "      <td>Pontiac_Firebird</td>\n",
       "      <td>6800</td>\n",
       "      <td>coupe</td>\n",
       "      <td>sonstige_autos</td>\n",
       "    </tr>\n",
       "    <tr>\n",
       "      <th>888</th>\n",
       "      <td>Cadillac_SRX_3.6_V6_AWD</td>\n",
       "      <td>7900</td>\n",
       "      <td>suv</td>\n",
       "      <td>sonstige_autos</td>\n",
       "    </tr>\n",
       "  </tbody>\n",
       "</table>\n",
       "</div>"
      ],
      "text/plain": [
       "                                            name  €_price vehicle_type  \\\n",
       "15   Corvette_C3_Coupe_T_Top_Crossfire_Injection    18900        coupe   \n",
       "140     Ssangyong_Actyon_SUV_2.0_xdi2wd_55000_km     5400          suv   \n",
       "152                          Ssanyong_Rexton_2.7     4499          suv   \n",
       "175                                    MG_MGB_GT    13800        coupe   \n",
       "296                Dodge_Nitro_4.0_Automatik_R/T    11500          suv   \n",
       "359                                   Proton_PKW      299    limousine   \n",
       "486                                 Wartburg_1.3      650    limousine   \n",
       "625                  Werkaufen_meine_Iveco_deily     4000          bus   \n",
       "658                             Pontiac_Firebird     6800        coupe   \n",
       "888                      Cadillac_SRX_3.6_V6_AWD     7900          suv   \n",
       "\n",
       "              brand  \n",
       "15   sonstige_autos  \n",
       "140  sonstige_autos  \n",
       "152  sonstige_autos  \n",
       "175  sonstige_autos  \n",
       "296  sonstige_autos  \n",
       "359  sonstige_autos  \n",
       "486  sonstige_autos  \n",
       "625  sonstige_autos  \n",
       "658  sonstige_autos  \n",
       "888  sonstige_autos  "
      ]
     },
     "execution_count": 36,
     "metadata": {},
     "output_type": "execute_result"
    }
   ],
   "source": [
    "autos_sonstige =  autos[autos['brand'] == 'sonstige_autos']\n",
    "\n",
    "autos_sonstige[['name','€_price','vehicle_type','brand']].head(10)"
   ]
  },
  {
   "cell_type": "markdown",
   "id": "384c39ac",
   "metadata": {},
   "source": [
    "## __Top Brands vs Mileage__"
   ]
  },
  {
   "cell_type": "markdown",
   "id": "8f6eab81",
   "metadata": {},
   "source": [
    "Now that we know which are the most sold brands and the mean prices, we can now create a new dataframe where we can compare the top car brands with our current aggregate data and any new aggregate data. One thing we can look at that would affect sales would be to look at the ` odometer_km` column and see if the mean mileage affects the price of the top car brands. We can select the top brands by [`slicing`](https://pandas.pydata.org/docs/reference/api/pandas.Series.str.html) the original `autos_brand_index`."
   ]
  },
  {
   "cell_type": "code",
   "execution_count": 37,
   "id": "594acba5",
   "metadata": {},
   "outputs": [
    {
     "data": {
      "text/plain": [
       "Index(['volkswagen', 'bmw', 'opel', 'mercedes_benz', 'audi', 'ford'], dtype='object')"
      ]
     },
     "execution_count": 37,
     "metadata": {},
     "output_type": "execute_result"
    }
   ],
   "source": [
    "top_car_brands = autos_brand_index[0:6]\n",
    "top_car_brands"
   ]
  },
  {
   "cell_type": "code",
   "execution_count": 38,
   "id": "fa5d1716",
   "metadata": {
    "scrolled": false
   },
   "outputs": [
    {
     "name": "stdout",
     "output_type": "stream",
     "text": [
      "Mean Price in €\n",
      "{'volkswagen': 5758, 'bmw': 8481, 'opel': 3189, 'mercedes_benz': 8458, 'audi': 9461, 'ford': 3849}\n",
      "\n",
      "\n",
      "Mean Mileage in km\n",
      "{'volkswagen': 128229, 'bmw': 132725, 'opel': 128739, 'mercedes_benz': 131463, 'audi': 129130, 'ford': 124025}\n"
     ]
    }
   ],
   "source": [
    "mean_price = {}\n",
    "mean_mileage = {}\n",
    "\n",
    "for brand in top_car_brands:\n",
    "    mean_v = autos[autos['brand'] == brand]\n",
    "    mean_price[brand] = round(mean_v['€_price'].mean())\n",
    "    mean_mileage[brand] = round(mean_v['odometer_km'].mean())\n",
    "    \n",
    "print('Mean Price in €')\n",
    "print(mean_price)\n",
    "print('\\n')\n",
    "print('Mean Mileage in km')\n",
    "print(mean_mileage)"
   ]
  },
  {
   "cell_type": "markdown",
   "id": "669df037",
   "metadata": {},
   "source": [
    "Now that we have our two desired aggregated datasets in dictionaries we can convert them into [`pandas series`]( https://pandas.pydata.org/pandas-docs/stable/reference/api/pandas.Series.html) which we can then convert into a dataframe. "
   ]
  },
  {
   "cell_type": "code",
   "execution_count": 39,
   "id": "dc80bf9e",
   "metadata": {
    "scrolled": true
   },
   "outputs": [
    {
     "data": {
      "text/plain": [
       "volkswagen       5758\n",
       "bmw              8481\n",
       "opel             3189\n",
       "mercedes_benz    8458\n",
       "audi             9461\n",
       "ford             3849\n",
       "dtype: int64"
      ]
     },
     "execution_count": 39,
     "metadata": {},
     "output_type": "execute_result"
    }
   ],
   "source": [
    "mean_price_series = pd.Series(data=mean_price)\n",
    "mean_mileage_series = pd.Series(data=mean_mileage)\n",
    "mean_price_series"
   ]
  },
  {
   "cell_type": "code",
   "execution_count": 40,
   "id": "5a577dc0",
   "metadata": {
    "scrolled": false
   },
   "outputs": [
    {
     "data": {
      "text/html": [
       "<div>\n",
       "<style scoped>\n",
       "    .dataframe tbody tr th:only-of-type {\n",
       "        vertical-align: middle;\n",
       "    }\n",
       "\n",
       "    .dataframe tbody tr th {\n",
       "        vertical-align: top;\n",
       "    }\n",
       "\n",
       "    .dataframe thead th {\n",
       "        text-align: right;\n",
       "    }\n",
       "</style>\n",
       "<table border=\"1\" class=\"dataframe\">\n",
       "  <thead>\n",
       "    <tr style=\"text-align: right;\">\n",
       "      <th></th>\n",
       "      <th>Mean Price €</th>\n",
       "    </tr>\n",
       "  </thead>\n",
       "  <tbody>\n",
       "    <tr>\n",
       "      <th>volkswagen</th>\n",
       "      <td>5758</td>\n",
       "    </tr>\n",
       "    <tr>\n",
       "      <th>bmw</th>\n",
       "      <td>8481</td>\n",
       "    </tr>\n",
       "    <tr>\n",
       "      <th>opel</th>\n",
       "      <td>3189</td>\n",
       "    </tr>\n",
       "    <tr>\n",
       "      <th>mercedes_benz</th>\n",
       "      <td>8458</td>\n",
       "    </tr>\n",
       "    <tr>\n",
       "      <th>audi</th>\n",
       "      <td>9461</td>\n",
       "    </tr>\n",
       "    <tr>\n",
       "      <th>ford</th>\n",
       "      <td>3849</td>\n",
       "    </tr>\n",
       "  </tbody>\n",
       "</table>\n",
       "</div>"
      ],
      "text/plain": [
       "               Mean Price €\n",
       "volkswagen             5758\n",
       "bmw                    8481\n",
       "opel                   3189\n",
       "mercedes_benz          8458\n",
       "audi                   9461\n",
       "ford                   3849"
      ]
     },
     "execution_count": 40,
     "metadata": {},
     "output_type": "execute_result"
    }
   ],
   "source": [
    "top_brand_df = pd.DataFrame(data=mean_price_series, columns = ['Mean Price €'])\n",
    "\n",
    "top_brand_df"
   ]
  },
  {
   "cell_type": "code",
   "execution_count": 41,
   "id": "1e83ec4a",
   "metadata": {
    "scrolled": false
   },
   "outputs": [
    {
     "data": {
      "text/html": [
       "<div>\n",
       "<style scoped>\n",
       "    .dataframe tbody tr th:only-of-type {\n",
       "        vertical-align: middle;\n",
       "    }\n",
       "\n",
       "    .dataframe tbody tr th {\n",
       "        vertical-align: top;\n",
       "    }\n",
       "\n",
       "    .dataframe thead th {\n",
       "        text-align: right;\n",
       "    }\n",
       "</style>\n",
       "<table border=\"1\" class=\"dataframe\">\n",
       "  <thead>\n",
       "    <tr style=\"text-align: right;\">\n",
       "      <th></th>\n",
       "      <th>Mean Price €</th>\n",
       "      <th>Mean Mileage km</th>\n",
       "    </tr>\n",
       "  </thead>\n",
       "  <tbody>\n",
       "    <tr>\n",
       "      <th>volkswagen</th>\n",
       "      <td>5758</td>\n",
       "      <td>128229</td>\n",
       "    </tr>\n",
       "    <tr>\n",
       "      <th>bmw</th>\n",
       "      <td>8481</td>\n",
       "      <td>132725</td>\n",
       "    </tr>\n",
       "    <tr>\n",
       "      <th>opel</th>\n",
       "      <td>3189</td>\n",
       "      <td>128739</td>\n",
       "    </tr>\n",
       "    <tr>\n",
       "      <th>mercedes_benz</th>\n",
       "      <td>8458</td>\n",
       "      <td>131463</td>\n",
       "    </tr>\n",
       "    <tr>\n",
       "      <th>audi</th>\n",
       "      <td>9461</td>\n",
       "      <td>129130</td>\n",
       "    </tr>\n",
       "    <tr>\n",
       "      <th>ford</th>\n",
       "      <td>3849</td>\n",
       "      <td>124025</td>\n",
       "    </tr>\n",
       "  </tbody>\n",
       "</table>\n",
       "</div>"
      ],
      "text/plain": [
       "               Mean Price €  Mean Mileage km\n",
       "volkswagen             5758           128229\n",
       "bmw                    8481           132725\n",
       "opel                   3189           128739\n",
       "mercedes_benz          8458           131463\n",
       "audi                   9461           129130\n",
       "ford                   3849           124025"
      ]
     },
     "execution_count": 41,
     "metadata": {},
     "output_type": "execute_result"
    }
   ],
   "source": [
    "top_brand_df['Mean Mileage km'] = mean_mileage_series\n",
    "\n",
    "top_brand_df"
   ]
  },
  {
   "cell_type": "markdown",
   "id": "020811e6",
   "metadata": {},
   "source": [
    "Now that we see the completed dtaframe we see that all of the top brands have a similar mean mileage. The smallest mean belongs to `ford` with `124,025` km and the highest belonged to `bmw` having a mean of `132,725` km.  The lack of distribution of `Mean Mileage km` is surprising as luxury brands (`bmw`, `Mercedes_benz`, `audi`) and affordable brands (`volkswagen`, `opel`, `ford`) have a large difference in ` Mean Price €`. "
   ]
  },
  {
   "cell_type": "markdown",
   "id": "357cdd42",
   "metadata": {},
   "source": [
    "## __Further Data Cleaning__ "
   ]
  },
  {
   "cell_type": "markdown",
   "id": "436520e1",
   "metadata": {},
   "source": [
    "### __Translating German to English__"
   ]
  },
  {
   "cell_type": "markdown",
   "id": "e7d0f89b",
   "metadata": {},
   "source": [
    "In this next section we will be translating any German word into English counterpart in our dataframe. We will inspect the first couple of rows of the `autos` dataframe and from there we will use [`unique()`](https://pandas.pydata.org/docs/reference/api/pandas.Series.unique.html) function to see all unique values that we need to translate. "
   ]
  },
  {
   "cell_type": "code",
   "execution_count": 42,
   "id": "9a2af348",
   "metadata": {
    "scrolled": true
   },
   "outputs": [
    {
     "data": {
      "text/html": [
       "<div>\n",
       "<style scoped>\n",
       "    .dataframe tbody tr th:only-of-type {\n",
       "        vertical-align: middle;\n",
       "    }\n",
       "\n",
       "    .dataframe tbody tr th {\n",
       "        vertical-align: top;\n",
       "    }\n",
       "\n",
       "    .dataframe thead th {\n",
       "        text-align: right;\n",
       "    }\n",
       "</style>\n",
       "<table border=\"1\" class=\"dataframe\">\n",
       "  <thead>\n",
       "    <tr style=\"text-align: right;\">\n",
       "      <th></th>\n",
       "      <th>date_crawled</th>\n",
       "      <th>name</th>\n",
       "      <th>€_price</th>\n",
       "      <th>ab_test</th>\n",
       "      <th>vehicle_type</th>\n",
       "      <th>registration_year</th>\n",
       "      <th>gearbox</th>\n",
       "      <th>power_ps</th>\n",
       "      <th>model</th>\n",
       "      <th>odometer_km</th>\n",
       "      <th>registration_month</th>\n",
       "      <th>fuel_type</th>\n",
       "      <th>brand</th>\n",
       "      <th>unrepaired_damage</th>\n",
       "      <th>ad_created</th>\n",
       "      <th>postal_code</th>\n",
       "      <th>last_seen</th>\n",
       "    </tr>\n",
       "  </thead>\n",
       "  <tbody>\n",
       "    <tr>\n",
       "      <th>0</th>\n",
       "      <td>2016-03-26</td>\n",
       "      <td>Peugeot_807_160_NAVTECH_ON_BOARD</td>\n",
       "      <td>5000</td>\n",
       "      <td>control</td>\n",
       "      <td>bus</td>\n",
       "      <td>2004</td>\n",
       "      <td>manuell</td>\n",
       "      <td>158</td>\n",
       "      <td>andere</td>\n",
       "      <td>150000</td>\n",
       "      <td>3</td>\n",
       "      <td>lpg</td>\n",
       "      <td>peugeot</td>\n",
       "      <td>nein</td>\n",
       "      <td>2016-03-26</td>\n",
       "      <td>79588</td>\n",
       "      <td>2016-04-06</td>\n",
       "    </tr>\n",
       "    <tr>\n",
       "      <th>1</th>\n",
       "      <td>2016-04-04</td>\n",
       "      <td>BMW_740i_4_4_Liter_HAMANN_UMBAU_Mega_Optik</td>\n",
       "      <td>8500</td>\n",
       "      <td>control</td>\n",
       "      <td>limousine</td>\n",
       "      <td>1997</td>\n",
       "      <td>automatik</td>\n",
       "      <td>286</td>\n",
       "      <td>7er</td>\n",
       "      <td>150000</td>\n",
       "      <td>6</td>\n",
       "      <td>benzin</td>\n",
       "      <td>bmw</td>\n",
       "      <td>nein</td>\n",
       "      <td>2016-04-04</td>\n",
       "      <td>71034</td>\n",
       "      <td>2016-04-06</td>\n",
       "    </tr>\n",
       "    <tr>\n",
       "      <th>2</th>\n",
       "      <td>2016-03-26</td>\n",
       "      <td>Volkswagen_Golf_1.6_United</td>\n",
       "      <td>8990</td>\n",
       "      <td>test</td>\n",
       "      <td>limousine</td>\n",
       "      <td>2009</td>\n",
       "      <td>manuell</td>\n",
       "      <td>102</td>\n",
       "      <td>golf</td>\n",
       "      <td>70000</td>\n",
       "      <td>7</td>\n",
       "      <td>benzin</td>\n",
       "      <td>volkswagen</td>\n",
       "      <td>nein</td>\n",
       "      <td>2016-03-26</td>\n",
       "      <td>35394</td>\n",
       "      <td>2016-04-06</td>\n",
       "    </tr>\n",
       "    <tr>\n",
       "      <th>3</th>\n",
       "      <td>2016-03-12</td>\n",
       "      <td>Smart_smart_fortwo_coupe_softouch/F1/Klima/Pan...</td>\n",
       "      <td>4350</td>\n",
       "      <td>control</td>\n",
       "      <td>kleinwagen</td>\n",
       "      <td>2007</td>\n",
       "      <td>automatik</td>\n",
       "      <td>71</td>\n",
       "      <td>fortwo</td>\n",
       "      <td>70000</td>\n",
       "      <td>6</td>\n",
       "      <td>benzin</td>\n",
       "      <td>smart</td>\n",
       "      <td>nein</td>\n",
       "      <td>2016-03-12</td>\n",
       "      <td>33729</td>\n",
       "      <td>2016-03-15</td>\n",
       "    </tr>\n",
       "    <tr>\n",
       "      <th>4</th>\n",
       "      <td>2016-04-01</td>\n",
       "      <td>Ford_Focus_1_6_Benzin_TÜV_neu_ist_sehr_gepfleg...</td>\n",
       "      <td>1350</td>\n",
       "      <td>test</td>\n",
       "      <td>kombi</td>\n",
       "      <td>2003</td>\n",
       "      <td>manuell</td>\n",
       "      <td>0</td>\n",
       "      <td>focus</td>\n",
       "      <td>150000</td>\n",
       "      <td>7</td>\n",
       "      <td>benzin</td>\n",
       "      <td>ford</td>\n",
       "      <td>nein</td>\n",
       "      <td>2016-04-01</td>\n",
       "      <td>39218</td>\n",
       "      <td>2016-04-01</td>\n",
       "    </tr>\n",
       "  </tbody>\n",
       "</table>\n",
       "</div>"
      ],
      "text/plain": [
       "  date_crawled                                               name  €_price  \\\n",
       "0   2016-03-26                   Peugeot_807_160_NAVTECH_ON_BOARD     5000   \n",
       "1   2016-04-04         BMW_740i_4_4_Liter_HAMANN_UMBAU_Mega_Optik     8500   \n",
       "2   2016-03-26                         Volkswagen_Golf_1.6_United     8990   \n",
       "3   2016-03-12  Smart_smart_fortwo_coupe_softouch/F1/Klima/Pan...     4350   \n",
       "4   2016-04-01  Ford_Focus_1_6_Benzin_TÜV_neu_ist_sehr_gepfleg...     1350   \n",
       "\n",
       "   ab_test vehicle_type  registration_year    gearbox  power_ps   model  \\\n",
       "0  control          bus               2004    manuell       158  andere   \n",
       "1  control    limousine               1997  automatik       286     7er   \n",
       "2     test    limousine               2009    manuell       102    golf   \n",
       "3  control   kleinwagen               2007  automatik        71  fortwo   \n",
       "4     test        kombi               2003    manuell         0   focus   \n",
       "\n",
       "   odometer_km  registration_month fuel_type       brand unrepaired_damage  \\\n",
       "0       150000                   3       lpg     peugeot              nein   \n",
       "1       150000                   6    benzin         bmw              nein   \n",
       "2        70000                   7    benzin  volkswagen              nein   \n",
       "3        70000                   6    benzin       smart              nein   \n",
       "4       150000                   7    benzin        ford              nein   \n",
       "\n",
       "   ad_created  postal_code   last_seen  \n",
       "0  2016-03-26        79588  2016-04-06  \n",
       "1  2016-04-04        71034  2016-04-06  \n",
       "2  2016-03-26        35394  2016-04-06  \n",
       "3  2016-03-12        33729  2016-03-15  \n",
       "4  2016-04-01        39218  2016-04-01  "
      ]
     },
     "execution_count": 42,
     "metadata": {},
     "output_type": "execute_result"
    }
   ],
   "source": [
    "autos.head()"
   ]
  },
  {
   "cell_type": "markdown",
   "id": "f2019b50",
   "metadata": {},
   "source": [
    "We can see looking at the dataframe there are several columns with German words that need to be translated. We can see that the follwinig coulms need to be translated:\n",
    "- `gearbox`\n",
    "- `fuel_type`\n",
    "- `unrepaired_damage`\n",
    "- `vehicle_type` \n",
    "\n",
    "We will look at the above columns to see the values to be replaced using the pandas [`replace()`]( https://pandas.pydata.org/docs/reference/api/pandas.DataFrame.replace.html) function. "
   ]
  },
  {
   "cell_type": "code",
   "execution_count": 43,
   "id": "1df73b6c",
   "metadata": {
    "scrolled": true
   },
   "outputs": [
    {
     "data": {
      "text/plain": [
       "array(['manuell', 'automatik', nan], dtype=object)"
      ]
     },
     "execution_count": 43,
     "metadata": {},
     "output_type": "execute_result"
    }
   ],
   "source": [
    "autos['gearbox'].unique()"
   ]
  },
  {
   "cell_type": "markdown",
   "id": "7b14cf5e",
   "metadata": {},
   "source": [
    "There are only two different values so we can convert the values easily to English. "
   ]
  },
  {
   "cell_type": "code",
   "execution_count": 44,
   "id": "df90d7bc",
   "metadata": {
    "scrolled": true
   },
   "outputs": [
    {
     "data": {
      "text/plain": [
       "array(['manual', 'automatic', nan], dtype=object)"
      ]
     },
     "execution_count": 44,
     "metadata": {},
     "output_type": "execute_result"
    }
   ],
   "source": [
    "autos['gearbox'] = autos['gearbox'].str.replace('manuell','manual').str.replace('automatik','automatic')\n",
    "autos['gearbox'].unique()"
   ]
  },
  {
   "cell_type": "code",
   "execution_count": 45,
   "id": "d912d2e0",
   "metadata": {},
   "outputs": [
    {
     "data": {
      "text/plain": [
       "array(['lpg', 'benzin', 'diesel', nan, 'cng', 'hybrid', 'elektro',\n",
       "       'andere'], dtype=object)"
      ]
     },
     "execution_count": 45,
     "metadata": {},
     "output_type": "execute_result"
    }
   ],
   "source": [
    "autos['fuel_type'].unique()"
   ]
  },
  {
   "cell_type": "markdown",
   "id": "eb8806dc",
   "metadata": {},
   "source": [
    "There are many different unique values in the `fuel_type` column but most are already in English. The words `lpg`, `diesel`, `cng`, and `hybrid` are the same in German and English so they don’t need to be replaced.  "
   ]
  },
  {
   "cell_type": "code",
   "execution_count": 46,
   "id": "4676caaa",
   "metadata": {},
   "outputs": [
    {
     "data": {
      "text/plain": [
       "array(['lpg', 'petrol', 'diesel', nan, 'cng', 'hybrid', 'electric',\n",
       "       'other'], dtype=object)"
      ]
     },
     "execution_count": 46,
     "metadata": {},
     "output_type": "execute_result"
    }
   ],
   "source": [
    "autos['fuel_type'] = autos['fuel_type'].str.replace('benzin','petrol').str.replace('elektro','electric').str.replace('andere','other')\n",
    "autos['fuel_type'].unique()"
   ]
  },
  {
   "cell_type": "code",
   "execution_count": 47,
   "id": "dc5e35a5",
   "metadata": {},
   "outputs": [
    {
     "data": {
      "text/plain": [
       "array(['nein', nan, 'ja'], dtype=object)"
      ]
     },
     "execution_count": 47,
     "metadata": {},
     "output_type": "execute_result"
    }
   ],
   "source": [
    "autos['unrepaired_damage'].unique()"
   ]
  },
  {
   "cell_type": "markdown",
   "id": "d7aecdb8",
   "metadata": {},
   "source": [
    "The unrepaired damage contains two unique vales which translate to ‘Yes’ and ‘No’."
   ]
  },
  {
   "cell_type": "code",
   "execution_count": 48,
   "id": "698302bc",
   "metadata": {},
   "outputs": [
    {
     "data": {
      "text/plain": [
       "array(['no', nan, 'yes'], dtype=object)"
      ]
     },
     "execution_count": 48,
     "metadata": {},
     "output_type": "execute_result"
    }
   ],
   "source": [
    "autos['unrepaired_damage'] = autos['unrepaired_damage'].str.replace('nein','no').str.replace('ja','yes')\n",
    "autos['unrepaired_damage'].unique()"
   ]
  },
  {
   "cell_type": "code",
   "execution_count": 49,
   "id": "b7240286",
   "metadata": {
    "scrolled": false
   },
   "outputs": [
    {
     "data": {
      "text/plain": [
       "array(['bus', 'limousine', 'kleinwagen', 'kombi', nan, 'coupe', 'suv',\n",
       "       'cabrio', 'andere'], dtype=object)"
      ]
     },
     "execution_count": 49,
     "metadata": {},
     "output_type": "execute_result"
    }
   ],
   "source": [
    "autos['vehicle_type'].unique()"
   ]
  },
  {
   "cell_type": "markdown",
   "id": "d8597a7e",
   "metadata": {},
   "source": [
    "As there are many unique values in the `vehicle_type` coulm we can use the [`map()`](https://pandas.pydata.org/docs/reference/api/pandas.Series.map.html) function to map our desired values to the series. "
   ]
  },
  {
   "cell_type": "code",
   "execution_count": 50,
   "id": "3261a983",
   "metadata": {},
   "outputs": [
    {
     "data": {
      "text/plain": [
       "array(['bus', 'sedan', 'small car', 'station wagon', nan, 'coupe', 'suv',\n",
       "       'convertible', 'other'], dtype=object)"
      ]
     },
     "execution_count": 50,
     "metadata": {},
     "output_type": "execute_result"
    }
   ],
   "source": [
    "mapping_dict = {\n",
    "'bus':'bus',\n",
    "'limousine' : 'sedan',\n",
    "'kleinwagen' : 'small car',\n",
    "'kombi' : 'station wagon',\n",
    "'coupe' : 'coupe',\n",
    "'suv': 'suv',\n",
    "'cabrio': 'convertible',\n",
    "'andere': 'other'\n",
    "}\n",
    "\n",
    "autos['vehicle_type'] = autos['vehicle_type'].map(mapping_dict)\n",
    "\n",
    "autos['vehicle_type'].unique()"
   ]
  },
  {
   "cell_type": "markdown",
   "id": "4180779e",
   "metadata": {},
   "source": [
    "### __Converting Date to Uniform Numeric Data__"
   ]
  },
  {
   "cell_type": "code",
   "execution_count": 51,
   "id": "998e662d",
   "metadata": {
    "scrolled": true
   },
   "outputs": [
    {
     "data": {
      "text/html": [
       "<div>\n",
       "<style scoped>\n",
       "    .dataframe tbody tr th:only-of-type {\n",
       "        vertical-align: middle;\n",
       "    }\n",
       "\n",
       "    .dataframe tbody tr th {\n",
       "        vertical-align: top;\n",
       "    }\n",
       "\n",
       "    .dataframe thead th {\n",
       "        text-align: right;\n",
       "    }\n",
       "</style>\n",
       "<table border=\"1\" class=\"dataframe\">\n",
       "  <thead>\n",
       "    <tr style=\"text-align: right;\">\n",
       "      <th></th>\n",
       "      <th>date_crawled</th>\n",
       "      <th>ad_created</th>\n",
       "      <th>last_seen</th>\n",
       "    </tr>\n",
       "  </thead>\n",
       "  <tbody>\n",
       "    <tr>\n",
       "      <th>0</th>\n",
       "      <td>2016-03-26</td>\n",
       "      <td>2016-03-26</td>\n",
       "      <td>2016-04-06</td>\n",
       "    </tr>\n",
       "    <tr>\n",
       "      <th>1</th>\n",
       "      <td>2016-04-04</td>\n",
       "      <td>2016-04-04</td>\n",
       "      <td>2016-04-06</td>\n",
       "    </tr>\n",
       "    <tr>\n",
       "      <th>2</th>\n",
       "      <td>2016-03-26</td>\n",
       "      <td>2016-03-26</td>\n",
       "      <td>2016-04-06</td>\n",
       "    </tr>\n",
       "    <tr>\n",
       "      <th>3</th>\n",
       "      <td>2016-03-12</td>\n",
       "      <td>2016-03-12</td>\n",
       "      <td>2016-03-15</td>\n",
       "    </tr>\n",
       "    <tr>\n",
       "      <th>4</th>\n",
       "      <td>2016-04-01</td>\n",
       "      <td>2016-04-01</td>\n",
       "      <td>2016-04-01</td>\n",
       "    </tr>\n",
       "  </tbody>\n",
       "</table>\n",
       "</div>"
      ],
      "text/plain": [
       "  date_crawled  ad_created   last_seen\n",
       "0   2016-03-26  2016-03-26  2016-04-06\n",
       "1   2016-04-04  2016-04-04  2016-04-06\n",
       "2   2016-03-26  2016-03-26  2016-04-06\n",
       "3   2016-03-12  2016-03-12  2016-03-15\n",
       "4   2016-04-01  2016-04-01  2016-04-01"
      ]
     },
     "execution_count": 51,
     "metadata": {},
     "output_type": "execute_result"
    }
   ],
   "source": [
    "autos[['date_crawled', 'ad_created','last_seen']][0:5]"
   ]
  },
  {
   "cell_type": "markdown",
   "id": "20d535a4",
   "metadata": {},
   "source": [
    "When we explored the date columns before we sliced the string to only extract the date and remove the time. Now we can convert the sliced string to a numeric value to be allow easier manipulation. To change the formatting we will use the pandas [`replace()`](https://pandas.pydata.org/docs/reference/api/pandas.Series.replace.html) and [`astype()`](https://pandas.pydata.org/docs/reference/api/pandas.DataFrame.astype.html) function."
   ]
  },
  {
   "cell_type": "code",
   "execution_count": 52,
   "id": "a7ec3375",
   "metadata": {
    "scrolled": true
   },
   "outputs": [
    {
     "data": {
      "text/html": [
       "<div>\n",
       "<style scoped>\n",
       "    .dataframe tbody tr th:only-of-type {\n",
       "        vertical-align: middle;\n",
       "    }\n",
       "\n",
       "    .dataframe tbody tr th {\n",
       "        vertical-align: top;\n",
       "    }\n",
       "\n",
       "    .dataframe thead th {\n",
       "        text-align: right;\n",
       "    }\n",
       "</style>\n",
       "<table border=\"1\" class=\"dataframe\">\n",
       "  <thead>\n",
       "    <tr style=\"text-align: right;\">\n",
       "      <th></th>\n",
       "      <th>date_crawled</th>\n",
       "      <th>ad_created</th>\n",
       "      <th>last_seen</th>\n",
       "    </tr>\n",
       "  </thead>\n",
       "  <tbody>\n",
       "    <tr>\n",
       "      <th>0</th>\n",
       "      <td>20160326</td>\n",
       "      <td>20160326</td>\n",
       "      <td>20160406</td>\n",
       "    </tr>\n",
       "    <tr>\n",
       "      <th>1</th>\n",
       "      <td>20160404</td>\n",
       "      <td>20160404</td>\n",
       "      <td>20160406</td>\n",
       "    </tr>\n",
       "    <tr>\n",
       "      <th>2</th>\n",
       "      <td>20160326</td>\n",
       "      <td>20160326</td>\n",
       "      <td>20160406</td>\n",
       "    </tr>\n",
       "    <tr>\n",
       "      <th>3</th>\n",
       "      <td>20160312</td>\n",
       "      <td>20160312</td>\n",
       "      <td>20160315</td>\n",
       "    </tr>\n",
       "    <tr>\n",
       "      <th>4</th>\n",
       "      <td>20160401</td>\n",
       "      <td>20160401</td>\n",
       "      <td>20160401</td>\n",
       "    </tr>\n",
       "  </tbody>\n",
       "</table>\n",
       "</div>"
      ],
      "text/plain": [
       "   date_crawled  ad_created  last_seen\n",
       "0      20160326    20160326   20160406\n",
       "1      20160404    20160404   20160406\n",
       "2      20160326    20160326   20160406\n",
       "3      20160312    20160312   20160315\n",
       "4      20160401    20160401   20160401"
      ]
     },
     "execution_count": 52,
     "metadata": {},
     "output_type": "execute_result"
    }
   ],
   "source": [
    "autos['date_crawled'] = autos['date_crawled'].str.replace('-','').astype(int)\n",
    "autos['ad_created'] = autos['ad_created'].str.replace('-','').astype(int)\n",
    "autos['last_seen'] = autos['last_seen'].str.replace('-','').astype(int)\n",
    "\n",
    "autos[['date_crawled', 'ad_created','last_seen']][0:5]"
   ]
  },
  {
   "cell_type": "markdown",
   "id": "44682d9d",
   "metadata": {},
   "source": [
    "### __Extracting Additional Data From the `name` Column__"
   ]
  },
  {
   "cell_type": "markdown",
   "id": "cf7c0d5d",
   "metadata": {},
   "source": [
    "To see if there are any keywords from the `name` column that we can splice off we need to first look at the name columns again. "
   ]
  },
  {
   "cell_type": "code",
   "execution_count": 53,
   "id": "1925da0b",
   "metadata": {},
   "outputs": [
    {
     "data": {
      "text/plain": [
       "0                     Peugeot_807_160_NAVTECH_ON_BOARD\n",
       "1           BMW_740i_4_4_Liter_HAMANN_UMBAU_Mega_Optik\n",
       "2                           Volkswagen_Golf_1.6_United\n",
       "3    Smart_smart_fortwo_coupe_softouch/F1/Klima/Pan...\n",
       "4    Ford_Focus_1_6_Benzin_TÜV_neu_ist_sehr_gepfleg...\n",
       "Name: name, dtype: object"
      ]
     },
     "execution_count": 53,
     "metadata": {},
     "output_type": "execute_result"
    }
   ],
   "source": [
    "autos['name'].head()"
   ]
  },
  {
   "cell_type": "markdown",
   "id": "bd4457a1",
   "metadata": {},
   "source": [
    "When we look at the `name` column we see that there is a lot of information. The name is made up of the brand on the zero position, model on the first position and engine is contained in the rest. We can also see that some of the names use `/` and some use `_` as separators in their name.  \n",
    "\n",
    "The first step would be to replace all instances of `/` with `_` and then use the pandas [`split()`](https://pandas.pydata.org/docs/reference/api/pandas.Series.str.split.html) function to spit the string by  on `_` and then use the pandas [`join()`](https://pandas.pydata.org/docs/reference/api/pandas.DataFrame.join.html) to create our desired fields. We also need to replace the name of `Mercedes_Benz` to `MercedesBenz`, the reason why we want to do this is do stop our code splitting and rejoining the brand name when we want to extract the model."
   ]
  },
  {
   "cell_type": "code",
   "execution_count": 54,
   "id": "9ca38e1a",
   "metadata": {
    "scrolled": true
   },
   "outputs": [
    {
     "data": {
      "text/plain": [
       "0                     Peugeot_807_160_NAVTECH_ON_BOARD\n",
       "1           BMW_740i_4_4_Liter_HAMANN_UMBAU_Mega_Optik\n",
       "2                            Volkswagen_Golf_16_United\n",
       "3    Smart_smart_fortwo_coupe_softouch_F1_Klima_Pan...\n",
       "4    Ford_Focus_1_6_Benzin_TÜV_neu_ist_sehr_gepfleg...\n",
       "Name: name, dtype: object"
      ]
     },
     "execution_count": 54,
     "metadata": {},
     "output_type": "execute_result"
    }
   ],
   "source": [
    "autos['name'] = autos['name'].str.replace('/','_', regex=True)\n",
    "autos['name'] = autos['name'].str.replace('.','', regex=True)\n",
    "autos['name'] = autos['name'].str.replace('Mercedes_Benz','MercedesBenz', regex=True)\n",
    "autos['name'].head()"
   ]
  },
  {
   "cell_type": "code",
   "execution_count": 55,
   "id": "93afb791",
   "metadata": {
    "scrolled": true
   },
   "outputs": [
    {
     "data": {
      "text/plain": [
       "0        Peugeot_807\n",
       "1           BMW_740i\n",
       "2    Volkswagen_Golf\n",
       "3        Smart_smart\n",
       "4         Ford_Focus\n",
       "Name: brand_model, dtype: object"
      ]
     },
     "execution_count": 55,
     "metadata": {},
     "output_type": "execute_result"
    }
   ],
   "source": [
    "autos['brand_model'] = autos['name'].str.split('_').str[0:2]\n",
    "\n",
    "autos['brand_model'] = autos['brand_model'].str.join('_')\n",
    "autos['brand_model'].head()"
   ]
  },
  {
   "cell_type": "code",
   "execution_count": 56,
   "id": "0837c1eb",
   "metadata": {},
   "outputs": [
    {
     "data": {
      "text/html": [
       "<div>\n",
       "<style scoped>\n",
       "    .dataframe tbody tr th:only-of-type {\n",
       "        vertical-align: middle;\n",
       "    }\n",
       "\n",
       "    .dataframe tbody tr th {\n",
       "        vertical-align: top;\n",
       "    }\n",
       "\n",
       "    .dataframe thead th {\n",
       "        text-align: right;\n",
       "    }\n",
       "</style>\n",
       "<table border=\"1\" class=\"dataframe\">\n",
       "  <thead>\n",
       "    <tr style=\"text-align: right;\">\n",
       "      <th></th>\n",
       "      <th>date_crawled</th>\n",
       "      <th>name</th>\n",
       "      <th>€_price</th>\n",
       "      <th>ab_test</th>\n",
       "      <th>vehicle_type</th>\n",
       "      <th>registration_year</th>\n",
       "      <th>gearbox</th>\n",
       "      <th>power_ps</th>\n",
       "      <th>model</th>\n",
       "      <th>odometer_km</th>\n",
       "      <th>registration_month</th>\n",
       "      <th>fuel_type</th>\n",
       "      <th>brand</th>\n",
       "      <th>unrepaired_damage</th>\n",
       "      <th>ad_created</th>\n",
       "      <th>postal_code</th>\n",
       "      <th>last_seen</th>\n",
       "      <th>brand_model</th>\n",
       "      <th>engine</th>\n",
       "    </tr>\n",
       "  </thead>\n",
       "  <tbody>\n",
       "    <tr>\n",
       "      <th>0</th>\n",
       "      <td>20160326</td>\n",
       "      <td>Peugeot_807_160_NAVTECH_ON_BOARD</td>\n",
       "      <td>5000</td>\n",
       "      <td>control</td>\n",
       "      <td>bus</td>\n",
       "      <td>2004</td>\n",
       "      <td>manual</td>\n",
       "      <td>158</td>\n",
       "      <td>andere</td>\n",
       "      <td>150000</td>\n",
       "      <td>3</td>\n",
       "      <td>lpg</td>\n",
       "      <td>peugeot</td>\n",
       "      <td>no</td>\n",
       "      <td>20160326</td>\n",
       "      <td>79588</td>\n",
       "      <td>20160406</td>\n",
       "      <td>Peugeot_807</td>\n",
       "      <td>160_NAVTECH_ON_BOARD</td>\n",
       "    </tr>\n",
       "    <tr>\n",
       "      <th>1</th>\n",
       "      <td>20160404</td>\n",
       "      <td>BMW_740i_4_4_Liter_HAMANN_UMBAU_Mega_Optik</td>\n",
       "      <td>8500</td>\n",
       "      <td>control</td>\n",
       "      <td>sedan</td>\n",
       "      <td>1997</td>\n",
       "      <td>automatic</td>\n",
       "      <td>286</td>\n",
       "      <td>7er</td>\n",
       "      <td>150000</td>\n",
       "      <td>6</td>\n",
       "      <td>petrol</td>\n",
       "      <td>bmw</td>\n",
       "      <td>no</td>\n",
       "      <td>20160404</td>\n",
       "      <td>71034</td>\n",
       "      <td>20160406</td>\n",
       "      <td>BMW_740i</td>\n",
       "      <td>4_4_Liter_HAMANN_UMBAU_Mega_Optik</td>\n",
       "    </tr>\n",
       "    <tr>\n",
       "      <th>2</th>\n",
       "      <td>20160326</td>\n",
       "      <td>Volkswagen_Golf_16_United</td>\n",
       "      <td>8990</td>\n",
       "      <td>test</td>\n",
       "      <td>sedan</td>\n",
       "      <td>2009</td>\n",
       "      <td>manual</td>\n",
       "      <td>102</td>\n",
       "      <td>golf</td>\n",
       "      <td>70000</td>\n",
       "      <td>7</td>\n",
       "      <td>petrol</td>\n",
       "      <td>volkswagen</td>\n",
       "      <td>no</td>\n",
       "      <td>20160326</td>\n",
       "      <td>35394</td>\n",
       "      <td>20160406</td>\n",
       "      <td>Volkswagen_Golf</td>\n",
       "      <td>16_United</td>\n",
       "    </tr>\n",
       "    <tr>\n",
       "      <th>3</th>\n",
       "      <td>20160312</td>\n",
       "      <td>Smart_smart_fortwo_coupe_softouch_F1_Klima_Pan...</td>\n",
       "      <td>4350</td>\n",
       "      <td>control</td>\n",
       "      <td>small car</td>\n",
       "      <td>2007</td>\n",
       "      <td>automatic</td>\n",
       "      <td>71</td>\n",
       "      <td>fortwo</td>\n",
       "      <td>70000</td>\n",
       "      <td>6</td>\n",
       "      <td>petrol</td>\n",
       "      <td>smart</td>\n",
       "      <td>no</td>\n",
       "      <td>20160312</td>\n",
       "      <td>33729</td>\n",
       "      <td>20160315</td>\n",
       "      <td>Smart_smart</td>\n",
       "      <td>fortwo_coupe_softouch_F1_Klima_Panorama</td>\n",
       "    </tr>\n",
       "    <tr>\n",
       "      <th>4</th>\n",
       "      <td>20160401</td>\n",
       "      <td>Ford_Focus_1_6_Benzin_TÜV_neu_ist_sehr_gepfleg...</td>\n",
       "      <td>1350</td>\n",
       "      <td>test</td>\n",
       "      <td>station wagon</td>\n",
       "      <td>2003</td>\n",
       "      <td>manual</td>\n",
       "      <td>0</td>\n",
       "      <td>focus</td>\n",
       "      <td>150000</td>\n",
       "      <td>7</td>\n",
       "      <td>petrol</td>\n",
       "      <td>ford</td>\n",
       "      <td>no</td>\n",
       "      <td>20160401</td>\n",
       "      <td>39218</td>\n",
       "      <td>20160401</td>\n",
       "      <td>Ford_Focus</td>\n",
       "      <td>1_6_Benzin_TÜV_neu_ist_sehr_gepflegtmit_Klimaa...</td>\n",
       "    </tr>\n",
       "  </tbody>\n",
       "</table>\n",
       "</div>"
      ],
      "text/plain": [
       "   date_crawled                                               name  €_price  \\\n",
       "0      20160326                   Peugeot_807_160_NAVTECH_ON_BOARD     5000   \n",
       "1      20160404         BMW_740i_4_4_Liter_HAMANN_UMBAU_Mega_Optik     8500   \n",
       "2      20160326                          Volkswagen_Golf_16_United     8990   \n",
       "3      20160312  Smart_smart_fortwo_coupe_softouch_F1_Klima_Pan...     4350   \n",
       "4      20160401  Ford_Focus_1_6_Benzin_TÜV_neu_ist_sehr_gepfleg...     1350   \n",
       "\n",
       "   ab_test   vehicle_type  registration_year    gearbox  power_ps   model  \\\n",
       "0  control            bus               2004     manual       158  andere   \n",
       "1  control          sedan               1997  automatic       286     7er   \n",
       "2     test          sedan               2009     manual       102    golf   \n",
       "3  control      small car               2007  automatic        71  fortwo   \n",
       "4     test  station wagon               2003     manual         0   focus   \n",
       "\n",
       "   odometer_km  registration_month fuel_type       brand unrepaired_damage  \\\n",
       "0       150000                   3       lpg     peugeot                no   \n",
       "1       150000                   6    petrol         bmw                no   \n",
       "2        70000                   7    petrol  volkswagen                no   \n",
       "3        70000                   6    petrol       smart                no   \n",
       "4       150000                   7    petrol        ford                no   \n",
       "\n",
       "   ad_created  postal_code  last_seen      brand_model  \\\n",
       "0    20160326        79588   20160406      Peugeot_807   \n",
       "1    20160404        71034   20160406         BMW_740i   \n",
       "2    20160326        35394   20160406  Volkswagen_Golf   \n",
       "3    20160312        33729   20160315      Smart_smart   \n",
       "4    20160401        39218   20160401       Ford_Focus   \n",
       "\n",
       "                                              engine  \n",
       "0                               160_NAVTECH_ON_BOARD  \n",
       "1                  4_4_Liter_HAMANN_UMBAU_Mega_Optik  \n",
       "2                                          16_United  \n",
       "3            fortwo_coupe_softouch_F1_Klima_Panorama  \n",
       "4  1_6_Benzin_TÜV_neu_ist_sehr_gepflegtmit_Klimaa...  "
      ]
     },
     "execution_count": 56,
     "metadata": {},
     "output_type": "execute_result"
    }
   ],
   "source": [
    "autos['engine'] = autos['name'].str.split('_').str[2:]\n",
    "\n",
    "autos['engine'] = autos['engine'].str.join('_')\n",
    "\n",
    "autos.head()"
   ]
  },
  {
   "cell_type": "markdown",
   "id": "66ea0a25",
   "metadata": {},
   "source": [
    "We can now see that we have successfully added our two new columns and we can now use in future analysis. "
   ]
  },
  {
   "cell_type": "markdown",
   "id": "dca075ab",
   "metadata": {},
   "source": [
    "## __Further Data Analysis__"
   ]
  },
  {
   "cell_type": "markdown",
   "id": "094bc69c",
   "metadata": {},
   "source": [
    "### __Finding Most Common Brand and Model Combination__"
   ]
  },
  {
   "cell_type": "markdown",
   "id": "0e62275b",
   "metadata": {},
   "source": [
    "To find the most common model of car sold on eBay Kleinanzeigen we can use our new column `brand_model` and use the pandas [`value_counts`]( https://pandas.pydata.org/docs/reference/api/pandas.Series.value_counts.html) function and we can see the 10 most sold model."
   ]
  },
  {
   "cell_type": "code",
   "execution_count": 57,
   "id": "1e0233a8",
   "metadata": {
    "scrolled": true
   },
   "outputs": [
    {
     "data": {
      "text/plain": [
       "Volkswagen_Golf      1808\n",
       "Opel_Corsa           1092\n",
       "Opel_Astra            994\n",
       "Audi_A4               947\n",
       "Volkswagen_Passat     726\n",
       "MercedesBenz_C        683\n",
       "Volkswagen_Polo       681\n",
       "Audi_A6               635\n",
       "Audi_A3               622\n",
       "Ford_Focus            612\n",
       "Name: brand_model, dtype: int64"
      ]
     },
     "execution_count": 57,
     "metadata": {},
     "output_type": "execute_result"
    }
   ],
   "source": [
    "autos['brand_model'].value_counts().head(10)"
   ]
  },
  {
   "cell_type": "markdown",
   "id": "9f26e43f",
   "metadata": {},
   "source": [
    "We can see that among the top ten most sold models we see mix of brands that we recognize from our `top_brands`. It also appears that `Volkswagen_Golf` is the most popular model by far, selling almost triple of the tenth most car being `Ford_focus`."
   ]
  },
  {
   "cell_type": "markdown",
   "id": "5f3256cb",
   "metadata": {},
   "source": [
    "### __Comparing `odometer_km` Groups and Their Mean `€_price`__"
   ]
  },
  {
   "cell_type": "markdown",
   "id": "7ee0eec8",
   "metadata": {},
   "source": [
    "If we want to compare the ` odometer_km` values with their mean `€_price` we first need to see the `min`, `max` and number of unique ` odometer_km` values. "
   ]
  },
  {
   "cell_type": "code",
   "execution_count": 58,
   "id": "033cc6be",
   "metadata": {
    "scrolled": true
   },
   "outputs": [
    {
     "name": "stdout",
     "output_type": "stream",
     "text": [
      "Unique odometer_km values:\n",
      "13\n",
      "\n",
      "\n",
      "Minimum odometer_km value:\n",
      "5000\n",
      "\n",
      "\n",
      "Maximum odometer_km value:\n",
      "150000\n"
     ]
    }
   ],
   "source": [
    "odometer_km_len = autos['odometer_km'].unique().size\n",
    "odometer_km_min = autos['odometer_km'].min()\n",
    "odometer_km_max = autos['odometer_km'].max()\n",
    "\n",
    "print('Unique odometer_km values:')\n",
    "print(odometer_km_len)\n",
    "print('\\n')\n",
    "print('Minimum odometer_km value:')\n",
    "print(odometer_km_min)\n",
    "print('\\n')\n",
    "print('Maximum odometer_km value:')\n",
    "print(odometer_km_max)"
   ]
  },
  {
   "cell_type": "markdown",
   "id": "0efaa4f4",
   "metadata": {},
   "source": [
    "We can see that there are 13 unique values for the `odometer_km` column with a range of `145,000 km`.  13 values are too many to meaningfully look at the means and it would be clearer to look at bands such as low, med, high and very high milage. We will define our bands the following ways trying to make our bands as even as possible. \n",
    "- `low`: `5000` - `40,000`\n",
    "- `med`: `40,000` - `75,000`\n",
    "- `high`: `75,000` - `110,000`\n",
    "- `very_high`: `110,000` - `150,000`\n",
    "\n",
    "We will use the pandas [`cut()`]( https://pandas.pydata.org/docs/reference/api/pandas.cut.html) function to allocate rows into our desired bands.  \n"
   ]
  },
  {
   "cell_type": "code",
   "execution_count": 59,
   "id": "ab6b85bc",
   "metadata": {
    "scrolled": true
   },
   "outputs": [
    {
     "data": {
      "text/plain": [
       "{'very_high': 4273.527241554483,\n",
       " 'med': 11910.133227344992,\n",
       " 'high': 8673.011224277698,\n",
       " 'low': 15196.044915254237,\n",
       " nan: nan}"
      ]
     },
     "execution_count": 59,
     "metadata": {},
     "output_type": "execute_result"
    }
   ],
   "source": [
    "bands = [5000, 40000, 75000, 110000, 150000]\n",
    "band_names = ['low','med','high','very_high']\n",
    "\n",
    "autos['od_band'] = pd.cut(autos['odometer_km'],bands,labels = band_names)\n",
    "\n",
    "od_band_group = autos['od_band'].unique()\n",
    "\n",
    "odometer_mean_price = {}\n",
    "\n",
    "for band in od_band_group:\n",
    "    odometer_mean_price[band] = autos.loc[autos['od_band']==band, '€_price'].mean()\n",
    "\n",
    "odometer_mean_price\n",
    "    "
   ]
  },
  {
   "cell_type": "markdown",
   "id": "f378aca4",
   "metadata": {},
   "source": [
    "We can see in the output above, the mean prices of our `od_band` column shows that the `low` band has the highest mean price of `€15,000.00` and the `very_high` being `€ 4273.00`. "
   ]
  },
  {
   "cell_type": "markdown",
   "id": "7524ca3f",
   "metadata": {},
   "source": [
    "### __Comparing `€_price` With Damaged and Undamaged Cars__"
   ]
  },
  {
   "cell_type": "markdown",
   "id": "45d08d60",
   "metadata": {},
   "source": [
    "We will use the same technique we used before when we compared `Top Brands vs Mileage` creating [`pandas.Series`]( https://pandas.pydata.org/docs/reference/api/pandas.Series.html) and [`pandas.DataFrame`]( https://pandas.pydata.org/docs/reference/api/pandas.DataFrame.html) functions to compare the damaged and undamaged cars."
   ]
  },
  {
   "cell_type": "code",
   "execution_count": 60,
   "id": "e9cd7359",
   "metadata": {
    "scrolled": true
   },
   "outputs": [
    {
     "data": {
      "text/html": [
       "<div>\n",
       "<style scoped>\n",
       "    .dataframe tbody tr th:only-of-type {\n",
       "        vertical-align: middle;\n",
       "    }\n",
       "\n",
       "    .dataframe tbody tr th {\n",
       "        vertical-align: top;\n",
       "    }\n",
       "\n",
       "    .dataframe thead th {\n",
       "        text-align: right;\n",
       "    }\n",
       "</style>\n",
       "<table border=\"1\" class=\"dataframe\">\n",
       "  <thead>\n",
       "    <tr style=\"text-align: right;\">\n",
       "      <th></th>\n",
       "      <th>undamage_mean_price_€</th>\n",
       "    </tr>\n",
       "  </thead>\n",
       "  <tbody>\n",
       "    <tr>\n",
       "      <th>volkswagen</th>\n",
       "      <td>6613</td>\n",
       "    </tr>\n",
       "    <tr>\n",
       "      <th>bmw</th>\n",
       "      <td>9330</td>\n",
       "    </tr>\n",
       "    <tr>\n",
       "      <th>opel</th>\n",
       "      <td>3740</td>\n",
       "    </tr>\n",
       "    <tr>\n",
       "      <th>mercedes_benz</th>\n",
       "      <td>9329</td>\n",
       "    </tr>\n",
       "    <tr>\n",
       "      <th>audi</th>\n",
       "      <td>10643</td>\n",
       "    </tr>\n",
       "    <tr>\n",
       "      <th>ford</th>\n",
       "      <td>4646</td>\n",
       "    </tr>\n",
       "    <tr>\n",
       "      <th>renault</th>\n",
       "      <td>3105</td>\n",
       "    </tr>\n",
       "    <tr>\n",
       "      <th>peugeot</th>\n",
       "      <td>3717</td>\n",
       "    </tr>\n",
       "    <tr>\n",
       "      <th>fiat</th>\n",
       "      <td>3517</td>\n",
       "    </tr>\n",
       "    <tr>\n",
       "      <th>seat</th>\n",
       "      <td>5243</td>\n",
       "    </tr>\n",
       "  </tbody>\n",
       "</table>\n",
       "</div>"
      ],
      "text/plain": [
       "               undamage_mean_price_€\n",
       "volkswagen                      6613\n",
       "bmw                             9330\n",
       "opel                            3740\n",
       "mercedes_benz                   9329\n",
       "audi                           10643\n",
       "ford                            4646\n",
       "renault                         3105\n",
       "peugeot                         3717\n",
       "fiat                            3517\n",
       "seat                            5243"
      ]
     },
     "execution_count": 60,
     "metadata": {},
     "output_type": "execute_result"
    }
   ],
   "source": [
    "mean_damage_price = {}\n",
    "mean_undamaged_price = {}\n",
    "mean_price_diff = {}\n",
    "\n",
    "for brand in autos_brand_index:\n",
    "    mean_brand = autos[autos['brand'] == brand] \n",
    "    undamaged_mean = mean_brand[mean_brand['unrepaired_damage']=='no']\n",
    "    damage_mean = mean_brand[mean_brand['unrepaired_damage'] == 'yes']\n",
    "    mean_undamaged_price[brand] = round(undamaged_mean['€_price'].mean())\n",
    "    mean_damage_price[brand] = round(damage_mean['€_price'].mean())\n",
    "    mean_price_diff[brand] = round((mean_damage_price[brand]) / (mean_undamaged_price[brand]) * 100)\n",
    "\n",
    "mean_undamage_price_series = pd.Series(data=mean_undamaged_price)\n",
    "mean_damage_price_series = pd.Series(data=mean_damage_price)\n",
    "mean_price_diff_series = pd.Series(data=mean_price_diff)\n",
    "\n",
    "damaged_price_df = pd.DataFrame(data=mean_undamage_price_series, columns =['undamage_mean_price_€'] )\n",
    "\n",
    "damaged_price_df.head(10)"
   ]
  },
  {
   "cell_type": "code",
   "execution_count": 63,
   "id": "2501b259",
   "metadata": {
    "scrolled": false
   },
   "outputs": [
    {
     "data": {
      "text/html": [
       "<div>\n",
       "<style scoped>\n",
       "    .dataframe tbody tr th:only-of-type {\n",
       "        vertical-align: middle;\n",
       "    }\n",
       "\n",
       "    .dataframe tbody tr th {\n",
       "        vertical-align: top;\n",
       "    }\n",
       "\n",
       "    .dataframe thead th {\n",
       "        text-align: right;\n",
       "    }\n",
       "</style>\n",
       "<table border=\"1\" class=\"dataframe\">\n",
       "  <thead>\n",
       "    <tr style=\"text-align: right;\">\n",
       "      <th></th>\n",
       "      <th>undamage_mean_price_€</th>\n",
       "      <th>damage_mean_price_€</th>\n",
       "      <th>damage/undamage_%</th>\n",
       "    </tr>\n",
       "  </thead>\n",
       "  <tbody>\n",
       "    <tr>\n",
       "      <th>volkswagen</th>\n",
       "      <td>6613</td>\n",
       "      <td>2393</td>\n",
       "      <td>36</td>\n",
       "    </tr>\n",
       "    <tr>\n",
       "      <th>bmw</th>\n",
       "      <td>9330</td>\n",
       "      <td>3775</td>\n",
       "      <td>40</td>\n",
       "    </tr>\n",
       "    <tr>\n",
       "      <th>opel</th>\n",
       "      <td>3740</td>\n",
       "      <td>1476</td>\n",
       "      <td>39</td>\n",
       "    </tr>\n",
       "    <tr>\n",
       "      <th>mercedes_benz</th>\n",
       "      <td>9329</td>\n",
       "      <td>4100</td>\n",
       "      <td>44</td>\n",
       "    </tr>\n",
       "    <tr>\n",
       "      <th>audi</th>\n",
       "      <td>10643</td>\n",
       "      <td>3561</td>\n",
       "      <td>33</td>\n",
       "    </tr>\n",
       "    <tr>\n",
       "      <th>ford</th>\n",
       "      <td>4646</td>\n",
       "      <td>1472</td>\n",
       "      <td>32</td>\n",
       "    </tr>\n",
       "    <tr>\n",
       "      <th>renault</th>\n",
       "      <td>3105</td>\n",
       "      <td>1254</td>\n",
       "      <td>40</td>\n",
       "    </tr>\n",
       "    <tr>\n",
       "      <th>peugeot</th>\n",
       "      <td>3717</td>\n",
       "      <td>1510</td>\n",
       "      <td>41</td>\n",
       "    </tr>\n",
       "    <tr>\n",
       "      <th>fiat</th>\n",
       "      <td>3517</td>\n",
       "      <td>1190</td>\n",
       "      <td>34</td>\n",
       "    </tr>\n",
       "    <tr>\n",
       "      <th>seat</th>\n",
       "      <td>5243</td>\n",
       "      <td>1809</td>\n",
       "      <td>35</td>\n",
       "    </tr>\n",
       "  </tbody>\n",
       "</table>\n",
       "</div>"
      ],
      "text/plain": [
       "               undamage_mean_price_€  damage_mean_price_€  damage/undamage_%\n",
       "volkswagen                      6613                 2393                 36\n",
       "bmw                             9330                 3775                 40\n",
       "opel                            3740                 1476                 39\n",
       "mercedes_benz                   9329                 4100                 44\n",
       "audi                           10643                 3561                 33\n",
       "ford                            4646                 1472                 32\n",
       "renault                         3105                 1254                 40\n",
       "peugeot                         3717                 1510                 41\n",
       "fiat                            3517                 1190                 34\n",
       "seat                            5243                 1809                 35"
      ]
     },
     "execution_count": 63,
     "metadata": {},
     "output_type": "execute_result"
    }
   ],
   "source": [
    "damaged_price_df['damage_mean_price_€'] = mean_damage_price_series\n",
    "damaged_price_df['damage/undamage_%'] = mean_price_diff_series\n",
    "\n",
    "damaged_price_df.head(10)"
   ]
  },
  {
   "cell_type": "markdown",
   "id": "189fe744",
   "metadata": {},
   "source": [
    "When we look at the ten most sold brands, we can see that there is a drastic difference between the undamaged and damaged cars. All of the damaged cars have a mean ` price_€` less than half compared to the undamaged counterparts. The most drastic we can see `ford` whose ` damage_mean_price_€`  32% the value of the ` undamage_mean_price_€`. "
   ]
  },
  {
   "cell_type": "markdown",
   "id": "3148a67c",
   "metadata": {},
   "source": [
    "# __Conclusion__"
   ]
  },
  {
   "cell_type": "markdown",
   "id": "a263c9f1",
   "metadata": {},
   "source": [
    "`Data Cleaning/ Data Exploration`: when we stated the project there where several parts of the dataset that required some sort of cleaning and formatting. We statted by changing the column names from camelCase into snake case to increase readability. We then precede to drop columns that have no impactful data, as a result we removed ` seller`, ` offer_type` and ` n_pictures` columns as they almost all contained a single value. We then proceeded to clean the ` odometer` and ` price` column by removing the non-numeric characters, changing the data type to `int`, placing the units in the column names and finally removing the outlining data. We determined that the ` odometer_km` had no values that needed to be removed, but the ` €_price` we removed all values outside the range of `€ 100 - € 500,000`.  Next, we looked at the date columns and changed the `date_crawled`, `ad_created` and `last_seen` to a uniform numeric data. After the date cleaning we dropped incorrect data from the `registration month` and `registration year` column. We then replaced any German word with English words. Finally, we extracted two additional columns `brand_model` and `engine` and added them to the dataframe. \n",
    "\n",
    "`Data Analysis`: In this project we attempted to answer several questions, these are the following conclusions we can draw from our analysis.\n",
    "\n",
    "- `Exploring Price of Car Brands`: When we looked at the mean price for the 20 most sold brands, we see that `mini` cars are the cars that are sold with the highest mean price being ` € 10, 772.00` and the `renault` has the least with ` € 2, 578.00`. We also determined that the brand `sonstige_autos` might have a misleading value as it refers to `Other Cars` and does not represent a single car brand.  \n",
    "\n",
    "- `Top Brands vs Milage`: When we compared the 6 most sold brands, we saw that there was no drastic difference in milage. The highest milage belonged to `bmw` with `132,000 km` and the lowest belonged to `ford` with `124,000 km`, meaning that we only have a range of `8, 000 km`. We also commented on the fact that there was no distinguishing between luxury and affordable cars. \n",
    "\n",
    "- `Finding Most Common Model`: After we created our new column of `brand_model`, we could see that frequency of the brands. We can that the most sold brand is the `Volkswagen_golf` with `1,808` cars sold, which sold almost double the next most sold model being the `opel_corsa` with `1092`. \n",
    "\n",
    "- `Comparing Milage to Mean Price`: When we placed the ` odometer_km` column into groups of `very_high`, `high`, `med` and `low` we saw that the cars in the `very_high` had the lowest price of `€ 4,273.00` followed by `high` `€ 8,673.00`, `med` `€ 11,910.00` and `low` with the highest price of `€ 15,196.00`. \n",
    "\n",
    "- `Comparing Mean Price with Car Damage`: Finally, we look at the average car prices for cars with and without damage. We looked at the brands and compered the mean price of the undamaged cars and the damaged versions. When we looked at the damaged cars we saw that they where worth less than half of there undamaged counterparts.  \n"
   ]
  }
 ],
 "metadata": {
  "kernelspec": {
   "display_name": "Python 3",
   "language": "python",
   "name": "python3"
  },
  "language_info": {
   "codemirror_mode": {
    "name": "ipython",
    "version": 3
   },
   "file_extension": ".py",
   "mimetype": "text/x-python",
   "name": "python",
   "nbconvert_exporter": "python",
   "pygments_lexer": "ipython3",
   "version": "3.8.8"
  }
 },
 "nbformat": 4,
 "nbformat_minor": 5
}
